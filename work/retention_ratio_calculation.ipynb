{
 "cells": [
  {
   "cell_type": "code",
   "execution_count": 14,
   "metadata": {
    "collapsed": true
   },
   "outputs": [],
   "source": [
    "import pandas as pd\n",
    "import numpy as np\n",
    "\n",
    "shot = 95118"
   ]
  },
  {
   "cell_type": "markdown",
   "source": [
    "# 1.计算D气比例"
   ],
   "metadata": {
    "collapsed": false,
    "pycharm": {
     "name": "#%% md\n"
    }
   }
  },
  {
   "cell_type": "markdown",
   "source": [
    "## 读取质谱数据"
   ],
   "metadata": {
    "collapsed": false,
    "pycharm": {
     "name": "#%% md\n"
    }
   }
  },
  {
   "cell_type": "code",
   "execution_count": 12,
   "outputs": [
    {
     "data": {
      "text/plain": "        time         2         3         4        18        20        28  \\\n0      0.734  0.000004  0.000010  0.000025  0.000004  0.000003  0.000003   \n1      1.470  0.000007  0.000007  0.000024  0.000002  0.000003  0.000002   \n2      2.200  0.000005  0.000009  0.000025  0.000003  0.000004  0.000004   \n3      2.940  0.000007  0.000008  0.000024  0.000004  0.000003  0.000004   \n4      3.660  0.000006  0.000010  0.000024  0.000004  0.000001  0.000006   \n..       ...       ...       ...       ...       ...       ...       ...   \n406  297.000  0.000008  0.000016  0.000040  0.000004  0.000002  0.000005   \n407  298.000  0.000007  0.000012  0.000045  0.000003  0.000004  0.000003   \n408  298.000  0.000009  0.000013  0.000040  0.000002  0.000001  0.000003   \n409  299.000  0.000006  0.000012  0.000042  0.000003  0.000006  0.000003   \n410  300.000  0.000009  0.000012  0.000045  0.000002  0.000002  0.000002   \n\n           32            40            71  \n0    0.000003  9.320000e-07  3.800000e-06  \n1    0.000001  1.160000e-06  1.980000e-06  \n2    0.000003  2.390000e-06  2.850000e-06  \n3    0.000004  3.170000e-06  9.390000e-07  \n4    0.000002  3.540000e-06  2.310000e-06  \n..        ...           ...           ...  \n406  0.000003  5.340000e-06  3.020000e-06  \n407  0.000006  7.010000e-07  3.630000e-06  \n408  0.000002  2.610000e-06  3.400000e-06  \n409  0.000002  2.000000e-06  2.130000e-06  \n410  0.000001  2.040000e-06  1.980000e-06  \n\n[411 rows x 10 columns]",
      "text/html": "<div>\n<style scoped>\n    .dataframe tbody tr th:only-of-type {\n        vertical-align: middle;\n    }\n\n    .dataframe tbody tr th {\n        vertical-align: top;\n    }\n\n    .dataframe thead th {\n        text-align: right;\n    }\n</style>\n<table border=\"1\" class=\"dataframe\">\n  <thead>\n    <tr style=\"text-align: right;\">\n      <th></th>\n      <th>time</th>\n      <th>2</th>\n      <th>3</th>\n      <th>4</th>\n      <th>18</th>\n      <th>20</th>\n      <th>28</th>\n      <th>32</th>\n      <th>40</th>\n      <th>71</th>\n    </tr>\n  </thead>\n  <tbody>\n    <tr>\n      <th>0</th>\n      <td>0.734</td>\n      <td>0.000004</td>\n      <td>0.000010</td>\n      <td>0.000025</td>\n      <td>0.000004</td>\n      <td>0.000003</td>\n      <td>0.000003</td>\n      <td>0.000003</td>\n      <td>9.320000e-07</td>\n      <td>3.800000e-06</td>\n    </tr>\n    <tr>\n      <th>1</th>\n      <td>1.470</td>\n      <td>0.000007</td>\n      <td>0.000007</td>\n      <td>0.000024</td>\n      <td>0.000002</td>\n      <td>0.000003</td>\n      <td>0.000002</td>\n      <td>0.000001</td>\n      <td>1.160000e-06</td>\n      <td>1.980000e-06</td>\n    </tr>\n    <tr>\n      <th>2</th>\n      <td>2.200</td>\n      <td>0.000005</td>\n      <td>0.000009</td>\n      <td>0.000025</td>\n      <td>0.000003</td>\n      <td>0.000004</td>\n      <td>0.000004</td>\n      <td>0.000003</td>\n      <td>2.390000e-06</td>\n      <td>2.850000e-06</td>\n    </tr>\n    <tr>\n      <th>3</th>\n      <td>2.940</td>\n      <td>0.000007</td>\n      <td>0.000008</td>\n      <td>0.000024</td>\n      <td>0.000004</td>\n      <td>0.000003</td>\n      <td>0.000004</td>\n      <td>0.000004</td>\n      <td>3.170000e-06</td>\n      <td>9.390000e-07</td>\n    </tr>\n    <tr>\n      <th>4</th>\n      <td>3.660</td>\n      <td>0.000006</td>\n      <td>0.000010</td>\n      <td>0.000024</td>\n      <td>0.000004</td>\n      <td>0.000001</td>\n      <td>0.000006</td>\n      <td>0.000002</td>\n      <td>3.540000e-06</td>\n      <td>2.310000e-06</td>\n    </tr>\n    <tr>\n      <th>...</th>\n      <td>...</td>\n      <td>...</td>\n      <td>...</td>\n      <td>...</td>\n      <td>...</td>\n      <td>...</td>\n      <td>...</td>\n      <td>...</td>\n      <td>...</td>\n      <td>...</td>\n    </tr>\n    <tr>\n      <th>406</th>\n      <td>297.000</td>\n      <td>0.000008</td>\n      <td>0.000016</td>\n      <td>0.000040</td>\n      <td>0.000004</td>\n      <td>0.000002</td>\n      <td>0.000005</td>\n      <td>0.000003</td>\n      <td>5.340000e-06</td>\n      <td>3.020000e-06</td>\n    </tr>\n    <tr>\n      <th>407</th>\n      <td>298.000</td>\n      <td>0.000007</td>\n      <td>0.000012</td>\n      <td>0.000045</td>\n      <td>0.000003</td>\n      <td>0.000004</td>\n      <td>0.000003</td>\n      <td>0.000006</td>\n      <td>7.010000e-07</td>\n      <td>3.630000e-06</td>\n    </tr>\n    <tr>\n      <th>408</th>\n      <td>298.000</td>\n      <td>0.000009</td>\n      <td>0.000013</td>\n      <td>0.000040</td>\n      <td>0.000002</td>\n      <td>0.000001</td>\n      <td>0.000003</td>\n      <td>0.000002</td>\n      <td>2.610000e-06</td>\n      <td>3.400000e-06</td>\n    </tr>\n    <tr>\n      <th>409</th>\n      <td>299.000</td>\n      <td>0.000006</td>\n      <td>0.000012</td>\n      <td>0.000042</td>\n      <td>0.000003</td>\n      <td>0.000006</td>\n      <td>0.000003</td>\n      <td>0.000002</td>\n      <td>2.000000e-06</td>\n      <td>2.130000e-06</td>\n    </tr>\n    <tr>\n      <th>410</th>\n      <td>300.000</td>\n      <td>0.000009</td>\n      <td>0.000012</td>\n      <td>0.000045</td>\n      <td>0.000002</td>\n      <td>0.000002</td>\n      <td>0.000002</td>\n      <td>0.000001</td>\n      <td>2.040000e-06</td>\n      <td>1.980000e-06</td>\n    </tr>\n  </tbody>\n</table>\n<p>411 rows × 10 columns</p>\n</div>"
     },
     "execution_count": 12,
     "metadata": {},
     "output_type": "execute_result"
    }
   ],
   "source": [
    "mass_spec = pd.read_csv('../data/' + str(shot) + '.csv')\n",
    "mass_spec\n"
   ],
   "metadata": {
    "collapsed": false,
    "pycharm": {
     "name": "#%%\n"
    }
   }
  },
  {
   "cell_type": "code",
   "execution_count": 17,
   "outputs": [
    {
     "data": {
      "text/plain": "80"
     },
     "execution_count": 17,
     "metadata": {},
     "output_type": "execute_result"
    }
   ],
   "source": [
    "np.abs(mass_spec['time'] - 59).idxmin()"
   ],
   "metadata": {
    "collapsed": false,
    "pycharm": {
     "name": "#%%\n"
    }
   }
  },
  {
   "cell_type": "code",
   "execution_count": 18,
   "outputs": [
    {
     "data": {
      "text/plain": "410"
     },
     "execution_count": 18,
     "metadata": {},
     "output_type": "execute_result"
    }
   ],
   "source": [
    "np.abs(mass_spec['time'] - 300).idxmin()"
   ],
   "metadata": {
    "collapsed": false,
    "pycharm": {
     "name": "#%%\n"
    }
   }
  },
  {
   "cell_type": "code",
   "execution_count": 26,
   "outputs": [],
   "source": [
    "#TODO:\n",
    "# 查找time值最接近59和300的下标\n",
    "idx_time_begin = np.abs(mass_spec['time'] - 59).idxmin()  # 寻找质谱中放电开始时间，通过绝对值减60秒，得到最接近开始放电时刻的记录值\n",
    "idx_time_end = np.abs(mass_spec['time'] - 300).idxmin()  # 寻找质谱中放电终止时间，通过绝对值减70秒，得到最接近结束放电时刻的记录值\n",
    "mass_spec_be = mass_spec.iloc[idx_time_begin:idx_time_end + 1]\n",
    "DH = (mass_spec_be['4'] * 2 + mass_spec_be['3']) / ((mass_spec_be['2'] + mass_spec_be['3'] + mass_spec_be['4']) * 2)\n",
    "timeDH = mass_spec_be.time - 60\n",
    "P = np.polyfit(timeDH, DH, 7)"
   ],
   "metadata": {
    "collapsed": false,
    "pycharm": {
     "name": "#%%\n"
    }
   }
  },
  {
   "cell_type": "code",
   "execution_count": 22,
   "outputs": [
    {
     "data": {
      "text/plain": "80     0.869557\n81     0.872257\n82     0.869159\n83     0.875286\n84     0.870890\n         ...   \n406    0.757719\n407    0.800442\n408    0.754825\n409    0.800700\n410    0.773204\nLength: 331, dtype: float64"
     },
     "execution_count": 22,
     "metadata": {},
     "output_type": "execute_result"
    }
   ],
   "source": [
    "DH"
   ],
   "metadata": {
    "collapsed": false,
    "pycharm": {
     "name": "#%%\n"
    }
   }
  },
  {
   "cell_type": "code",
   "execution_count": 25,
   "outputs": [
    {
     "data": {
      "text/plain": "80      -0.9\n81      -0.2\n82       0.5\n83       1.3\n84       2.0\n       ...  \n406    237.0\n407    238.0\n408    238.0\n409    239.0\n410    240.0\nName: time, Length: 331, dtype: float64"
     },
     "execution_count": 25,
     "metadata": {},
     "output_type": "execute_result"
    }
   ],
   "source": [
    "timeDH"
   ],
   "metadata": {
    "collapsed": false,
    "pycharm": {
     "name": "#%%\n"
    }
   }
  },
  {
   "cell_type": "code",
   "execution_count": 27,
   "outputs": [
    {
     "data": {
      "text/plain": "array([ 1.93335132e-16, -1.49717099e-13,  4.42743905e-11, -6.14174419e-09,\n        3.81168731e-07, -4.79178904e-06, -9.05380759e-04,  8.72879024e-01])"
     },
     "execution_count": 27,
     "metadata": {},
     "output_type": "execute_result"
    }
   ],
   "source": [
    "P"
   ],
   "metadata": {
    "collapsed": false,
    "pycharm": {
     "name": "#%%\n"
    }
   }
  },
  {
   "cell_type": "markdown",
   "source": [
    "# 2.计算Q_puff"
   ],
   "metadata": {
    "collapsed": false,
    "pycharm": {
     "name": "#%% md\n"
    }
   }
  },
  {
   "cell_type": "code",
   "execution_count": 28,
   "outputs": [],
   "source": [
    "Pam2P = 2.41e20\n",
    "\n",
    "# SMBI3充气罐子体积m3\n",
    "V_SMBI = 2.0431e-4 if shot > 88344 else 39.8431e-4\n",
    "\n",
    "#2021对稳压罐进行重组，取消KHG1，JHG6,JHG3仅用于充Ar\n",
    "\n",
    "#用于加料的罐子\n",
    "V_JHG1 = 3.118e-4  # PUFF系统充气罐体积m-3\n",
    "V_DHG1 = 2.919E-4  # D窗口E低杂波天线充气罐体积m-3\n",
    "V_JHG2 = 2.91e-4  # J窗口水平充气，位于偏滤器充气罐体积m-3\n",
    "V_JHG4 = 2.99e-4  # N窗口北ICRF天线加料充气罐体积m-3\n",
    "V_JHG5 = 2.997e-4  # N窗口南ICRF天线加料充气罐体积m-3\n",
    "#V_KHG1=2.919E-4    # K窗口N低杂波天线充气罐体积m-3\n",
    "#V_JHG6 = 2.949e-4  # J窗口南ICRF天线加料充气罐体积m-3\n",
    "\n",
    "#用于偏滤器杂质气体充气\n",
    "V_OUG1 = 1.4687e-3  # J窗口偏滤器充气罐体积m-3\n",
    "V_ODG1 = 1.4601e-3  # J窗口偏滤器充气罐体积m-3\n",
    "V_CDG1 = 6.792e-3  # J窗口偏滤器充气罐体积m-3\n",
    "V_HDG1 = 6.75e-3  # J窗口偏滤器充气罐体积m-3\n",
    "\n",
    "KH = 2.9  # 规管系数"
   ],
   "metadata": {
    "collapsed": false,
    "pycharm": {
     "name": "#%%\n"
    }
   }
  },
  {
   "cell_type": "code",
   "execution_count": 30,
   "outputs": [],
   "source": [
    "import MDSplus\n",
    "\n",
    "cn = MDSplus.Connection('mds.ipp.ac.cn')\n",
    "cn.openTree('east', shot)"
   ],
   "metadata": {
    "collapsed": false,
    "pycharm": {
     "name": "#%%\n"
    }
   }
  },
  {
   "cell_type": "code",
   "execution_count": 37,
   "outputs": [],
   "source": [
    "G107 = 10 ** (1.667 * cn.get('\\G107') - 9.333) * KH\n",
    "G105 = 10 ** (1.667 * cn.get('\\G105') - 9.333) * KH\n",
    "G109 = 10 ** (1.667 * cn.get('\\G109') - 9.333) * KH\n",
    "G106 = 10 ** (1.667 * cn.get('\\G106') - 9.333) * KH\n",
    "VJHpev3 = cn.get('\\VJHpev3')\n",
    "time_VJHpev3 = cn.get('dim_of(\\VJHpev3)')\n",
    "index = np.where(VJHpev3 > 0.3)\n",
    "\n",
    "M_GAS = np.floor(index[-1] / 10)  # 重采样之后的下标"
   ],
   "metadata": {
    "collapsed": false,
    "pycharm": {
     "name": "#%%\n"
    }
   }
  },
  {
   "cell_type": "code",
   "execution_count": 38,
   "outputs": [
    {
     "data": {
      "text/plain": "(array([67945, 67946, 67947, ..., 89909, 89910, 89911], dtype=int64),)"
     },
     "execution_count": 38,
     "metadata": {},
     "output_type": "execute_result"
    }
   ],
   "source": [
    "index"
   ],
   "metadata": {
    "collapsed": false,
    "pycharm": {
     "name": "#%%\n"
    }
   }
  },
  {
   "cell_type": "code",
   "execution_count": 34,
   "outputs": [
    {
     "data": {
      "text/plain": "MDSplus.mdsarray.Float64Array"
     },
     "execution_count": 34,
     "metadata": {},
     "output_type": "execute_result"
    }
   ],
   "source": [
    "# Convert mdsarray to np.array\n"
   ],
   "metadata": {
    "collapsed": false,
    "pycharm": {
     "name": "#%%\n"
    }
   }
  },
  {
   "cell_type": "code",
   "execution_count": null,
   "outputs": [],
   "source": [
    "# 没必要写两遍\n",
    "jhg1 = cn.get('\\jhg1')\n",
    "jhg2 = cn.get('\\jhg2')\n",
    "dhg1 = cn.get('\\Dhg1')\n",
    "jhg4 = cn.get('\\jhg4')\n",
    "jhg5 = cn.get('\\jhg5')\n",
    "\n",
    "JHG1 = (cn.get('\\jhg1') - 1) * 2.5e4  # JHG1为充气信号，单位Pa\n",
    "JHG2 = (cn.get('\\jhg2') - 1) * 2.5e4  #\n",
    "DHG1 = (cn.get('\\Dhg1') - 1) * 2.5e4  # D窗口低杂波天线充气\n",
    "JHG4 = (cn.get('\\jhg4') - 1) * 2.5e4  # B窗口北ICRF天线加料\n",
    "JHG5 = (cn.get('\\jhg5') - 1) * 2.5e4  # J窗口南ICRF天线加料\n",
    "\n",
    "#缩短数据长度\n",
    "JHG1 = JHG1[::10]\n",
    "JHG2 = JHG2[::10]\n",
    "DHG1 = DHG1[::10]\n",
    "JHG4 = JHG4[::10]\n",
    "JHG5 = JHG5[::10]"
   ],
   "metadata": {
    "collapsed": false,
    "pycharm": {
     "name": "#%%\n"
    }
   }
  },
  {
   "cell_type": "code",
   "execution_count": null,
   "outputs": [],
   "source": [
    "#偏滤器加料\n",
    "oug1 = cn.get('\\OUG1')\n",
    "odg1 = cn.get('\\ODG1')\n",
    "cdg1 = cn.get('\\CDG1')\n",
    "hdg1 = cn.get('\\HDG1')\n",
    "OUG1 = (cn.get('\\OUG1') - 1) * 2.5e4  # J窗口偏滤器\n",
    "ODG1 = (cn.get('\\ODG1') - 1) * 2.5e4  # J窗口偏滤器\n",
    "CDG1 = (cn.get('\\CDG1') - 1) * 2.5e4  # J窗口偏滤器\n",
    "HDG1 = (cn.get('\\HDG1') - 1) * 2.5e4  # J窗口偏滤器\n",
    "#缩短数据长度\n",
    "OUG1 = OUG1[::10]\n",
    "ODG1 = ODG1[::10]\n",
    "CDG1 = CDG1[::10]\n",
    "HDG1 = HDG1[::10]\n",
    "\n",
    "NBI1LHI = 0.8 * (cn.get('\\\\NBI1LHI'))  # NBI 注入电流信号，以\\N是有特殊含义的字符,加上转义字符\\\n",
    "NBI1RHI = 0.8 * (cn.get('\\\\NBI1RHI'))\n",
    "NBI2LHI = 0.8 * (cn.get('\\\\NBI2LHI'))\n",
    "NBI2RHI = 0.8 * (cn.get('\\\\NBI2RHI'))\n",
    "time_NBI = cn.get('dim_of(\\\\NBI2RHI)')\n",
    "\n",
    "#缩短数据长度\n",
    "G107 = G107[::10]\n",
    "G105 = G105[::10]\n",
    "G109 = G109[::10]\n",
    "G106 = G106[::10]"
   ],
   "metadata": {
    "collapsed": false,
    "pycharm": {
     "name": "#%%\n"
    }
   }
  },
  {
   "cell_type": "code",
   "execution_count": null,
   "outputs": [],
   "source": [
    "ipm = cn.get('\\ipm')\n",
    "time = cn.get('dim_of(\\G107)')\n",
    "time = time[::10]\n",
    "time1 = cn.get('dim_of(\\ipm)')\n",
    "time1 = time1[::10]\n",
    "length_time1 = len(time)\n",
    "length_time2 = len(time1)\n",
    "time_puffing = cn.get('dim_of(\\jhg1)')\n",
    "length_timepuffing = len(time_puffing)\n",
    "\n",
    "background = np.mean(G107[:100])\n",
    "G107 = G107 - background"
   ],
   "metadata": {
    "collapsed": false,
    "pycharm": {
     "name": "#%%\n"
    }
   }
  },
  {
   "cell_type": "markdown",
   "source": [
    "# 充气部分"
   ],
   "metadata": {
    "collapsed": false,
    "pycharm": {
     "name": "#%% md\n"
    }
   }
  },
  {
   "cell_type": "markdown",
   "source": [
    "## LHW部分"
   ],
   "metadata": {
    "collapsed": false,
    "pycharm": {
     "name": "#%% md\n"
    }
   }
  },
  {
   "cell_type": "code",
   "execution_count": null,
   "outputs": [],
   "source": [
    "background_DHG1 = np.mean(DHG1(1:5000));\n",
    "if max(dhg1)-min(dhg1)<0.3\n",
    "    DHG1=zeros(length_time1,1);\n",
    "    puff_DHG=V_DHG1.*DHG1;\n",
    "else\n",
    "    for j=1:length_time1\n",
    "        puff_DHG(j,1)= V_DHG1*(background_DHG1-DHG1(j));\n",
    "    end\n",
    "end\n",
    "puff_DHG;\n",
    "puff_LHW=puff_DHG;\n",
    "puff_LHW=smooth(puff_LHW,1000,'sgolay');\n",
    "[M_LHW,N_LHW]=find(puff_LHW==max(puff_LHW));\n",
    "M_LHW=min(M_LHW);\n",
    "if length(M_LHW)>10\n",
    "    puff_LHWlong=puff_LHW;\n",
    "else\n",
    "puff_LHWlong(1:1:M_LHW,1)=puff_LHW(1:1:M_LHW,1);\n",
    "puff_LHWlong((M_LHW+1):1:length_time1,1)=ones(length_time1-M_LHW,1)*puff_LHW(M_LHW,1);\n",
    "end\n",
    "puff_LHWlong=smooth(puff_LHWlong,100,'sgolay');"
   ],
   "metadata": {
    "collapsed": false,
    "pycharm": {
     "name": "#%%\n"
    }
   }
  }
 ],
 "metadata": {
  "kernelspec": {
   "display_name": "Python 3",
   "language": "python",
   "name": "python3"
  },
  "language_info": {
   "codemirror_mode": {
    "name": "ipython",
    "version": 2
   },
   "file_extension": ".py",
   "mimetype": "text/x-python",
   "name": "python",
   "nbconvert_exporter": "python",
   "pygments_lexer": "ipython2",
   "version": "2.7.6"
  }
 },
 "nbformat": 4,
 "nbformat_minor": 0
}