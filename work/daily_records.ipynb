{
 "cells": [
  {
   "cell_type": "code",
   "execution_count": 27,
   "metadata": {
    "collapsed": true
   },
   "outputs": [],
   "source": [
    "import datetime\n",
    "import  MDSplus as mds\n",
    "from MDSplus import mdsExceptions"
   ]
  },
  {
   "cell_type": "code",
   "execution_count": 22,
   "outputs": [
    {
     "data": {
      "text/plain": "datetime.datetime(2022, 11, 16, 14, 59, 1, 673888)"
     },
     "execution_count": 22,
     "metadata": {},
     "output_type": "execute_result"
    }
   ],
   "source": [
    "today = datetime.datetime.now()\n",
    "today"
   ],
   "metadata": {
    "collapsed": false,
    "pycharm": {
     "name": "#%%\n"
    }
   }
  },
  {
   "cell_type": "code",
   "execution_count": 23,
   "outputs": [
    {
     "data": {
      "text/plain": "datetime.datetime(2022, 11, 15, 14, 59, 1, 673888)"
     },
     "execution_count": 23,
     "metadata": {},
     "output_type": "execute_result"
    }
   ],
   "source": [
    "yesterday = today + datetime.timedelta(days=-1)\n",
    "yesterday"
   ],
   "metadata": {
    "collapsed": false,
    "pycharm": {
     "name": "#%%\n"
    }
   }
  },
  {
   "cell_type": "code",
   "execution_count": 28,
   "outputs": [
    {
     "data": {
      "text/plain": "int"
     },
     "execution_count": 28,
     "metadata": {},
     "output_type": "execute_result"
    }
   ],
   "source": [
    "date = int(today.strftime(\"%Y%m%d\"))\n",
    "type(date)"
   ],
   "metadata": {
    "collapsed": false,
    "pycharm": {
     "name": "#%%\n"
    }
   }
  },
  {
   "cell_type": "markdown",
   "source": [
    "# YOU CAN SET TIME HERE $\\downarrow$"
   ],
   "metadata": {
    "collapsed": false,
    "pycharm": {
     "name": "#%% md\n"
    }
   }
  },
  {
   "cell_type": "code",
   "source": [
    "seconds_each_hour = 3600\n",
    "start_time = 8 * seconds_each_hour # Begin from yesterday 8 am\n",
    "end_time = 7 * seconds_each_hour # Stop at today 7 am\n",
    "seconds_each_day = 24 * 3600"
   ],
   "metadata": {
    "collapsed": false,
    "pycharm": {
     "name": "#%%\n"
    }
   },
   "execution_count": 25,
   "outputs": []
  },
  {
   "cell_type": "markdown",
   "source": [
    "# Set up signals"
   ],
   "metadata": {
    "collapsed": false,
    "pycharm": {
     "name": "#%% md\n"
    }
   }
  },
  {
   "cell_type": "code",
   "execution_count": 26,
   "outputs": [
    {
     "data": {
      "text/plain": "['G1_1',\n 'G1_7',\n 'G2_4',\n 'G2_3',\n 'G5_1',\n 'G5_4',\n 'G5_7',\n 'G5_3',\n 'G5_8',\n 'G5_5',\n 'G5_2',\n 'G5_6']"
     },
     "execution_count": 26,
     "metadata": {},
     "output_type": "execute_result"
    }
   ],
   "source": [
    "signals_1 = [\n",
    "'G1_1', 'G1_7', 'G2_4', 'G2_3',\n",
    "'G5_1', 'G5_4', 'G5_7', 'G5_3',\n",
    "'G5_8', 'G5_5', 'G5_2', 'G5_6']# 压强信号\n",
    "signals_1"
   ],
   "metadata": {
    "collapsed": false,
    "pycharm": {
     "name": "#%%\n"
    }
   }
  },
  {
   "cell_type": "code",
   "execution_count": null,
   "outputs": [],
   "source": [
    "# 温度信号\n",
    "signals_2 =['TVVG','I','TVVM','THFM','TPG1','TPE18','TPO3','TPO15','TVUP','TVHF','TVLP','T2','T13'] # 'I','T2','T13'的信号名是瞎掰的"
   ],
   "metadata": {
    "collapsed": false,
    "pycharm": {
     "name": "#%%\n"
    }
   }
  },
  {
   "cell_type": "code",
   "execution_count": 29,
   "outputs": [],
   "source": [
    "cn = mds.Connection(\"mds.ipp.ac.cn\")\n",
    "cn.openTree(\"eng_tree\",int(date))"
   ],
   "metadata": {
    "collapsed": false,
    "pycharm": {
     "name": "#%%\n"
    }
   }
  },
  {
   "cell_type": "code",
   "execution_count": 35,
   "outputs": [
    {
     "data": {
      "text/plain": "array([136., 136., 136., 135., 135., 135., 135., 135., 133., 134., 134.,\n       133., 134., 134., 133., 134.], dtype=float32)"
     },
     "execution_count": 35,
     "metadata": {},
     "output_type": "execute_result"
    }
   ],
   "source": [
    "#TVVG\n",
    "tvvg = cn.get('\\\\TVVG').data()[::3600]\n",
    "tvvg"
   ],
   "metadata": {
    "collapsed": false,
    "pycharm": {
     "name": "#%%\n"
    }
   }
  },
  {
   "cell_type": "code",
   "execution_count": null,
   "outputs": [],
   "source": [
    "#外真空室壁I"
   ],
   "metadata": {
    "collapsed": false,
    "pycharm": {
     "name": "#%%\n"
    }
   }
  },
  {
   "cell_type": "code",
   "execution_count": 34,
   "outputs": [
    {
     "data": {
      "text/plain": "array([67., 67., 67., 68., 68., 68., 68., 68., 67., 67., 67., 67., 67.,\n       66., 66., 67.], dtype=float32)"
     },
     "execution_count": 34,
     "metadata": {},
     "output_type": "execute_result"
    }
   ],
   "source": [
    "#TVVM\n",
    "tvvm = cn.get('\\\\TVVM').data()[::3600]\n",
    "tvvm"
   ],
   "metadata": {
    "collapsed": false,
    "pycharm": {
     "name": "#%%\n"
    }
   }
  },
  {
   "cell_type": "code",
   "execution_count": 33,
   "outputs": [
    {
     "data": {
      "text/plain": "array([68., 68., 68., 68., 68., 68., 68., 68., 67., 67., 67., 67., 67.,\n       67., 67., 67.], dtype=float32)"
     },
     "execution_count": 33,
     "metadata": {},
     "output_type": "execute_result"
    }
   ],
   "source": [
    "# THFM\n",
    "thfm = cn.get('\\\\THFM').data()[::3600]\n",
    "thfm"
   ],
   "metadata": {
    "collapsed": false,
    "pycharm": {
     "name": "#%%\n"
    }
   }
  },
  {
   "cell_type": "code",
   "execution_count": 36,
   "outputs": [
    {
     "data": {
      "text/plain": "array([130., 130., 130., 130., 130., 130., 130., 130., 128., 128., 128.,\n       126., 127., 127., 127., 127.], dtype=float32)"
     },
     "execution_count": 36,
     "metadata": {},
     "output_type": "execute_result"
    }
   ],
   "source": [
    "# TPG1\n",
    "tpg1 = cn.get('\\\\TPG1').data()[::3600]\n",
    "tpg1"
   ],
   "metadata": {
    "collapsed": false,
    "pycharm": {
     "name": "#%%\n"
    }
   }
  },
  {
   "cell_type": "code",
   "execution_count": 38,
   "outputs": [
    {
     "data": {
      "text/plain": "array([106., 106., 106., 106., 106., 106., 106., 106., 103., 104., 104.,\n       103., 103., 103., 103., 104.], dtype=float32)"
     },
     "execution_count": 38,
     "metadata": {},
     "output_type": "execute_result"
    }
   ],
   "source": [
    "# TPE18\n",
    "tpe18 = cn.get('\\\\TPE18').data()[::3600]\n",
    "tpe18"
   ],
   "metadata": {
    "collapsed": false,
    "pycharm": {
     "name": "#%%\n"
    }
   }
  },
  {
   "cell_type": "code",
   "execution_count": 40,
   "outputs": [
    {
     "data": {
      "text/plain": "array([53., 53., 52., 52., 52., 52., 52., 52., 51., 51., 51., 51., 51.,\n       51., 51., 51.], dtype=float32)"
     },
     "execution_count": 40,
     "metadata": {},
     "output_type": "execute_result"
    }
   ],
   "source": [
    "#TPO3\n",
    "tpO3 = cn.get('\\\\TPO3').data()[::3600]\n",
    "tpO3"
   ],
   "metadata": {
    "collapsed": false,
    "pycharm": {
     "name": "#%%\n"
    }
   }
  },
  {
   "cell_type": "code",
   "execution_count": 41,
   "outputs": [
    {
     "data": {
      "text/plain": "array([156., 156., 156., 156., 156., 156., 156., 156., 155., 155., 154.,\n       154., 154., 154., 154., 155.], dtype=float32)"
     },
     "execution_count": 41,
     "metadata": {},
     "output_type": "execute_result"
    }
   ],
   "source": [
    "#TPO15\n",
    "tpo15 = cn.get('\\\\TPO15').data()[::3600]\n",
    "tpo15"
   ],
   "metadata": {
    "collapsed": false,
    "pycharm": {
     "name": "#%%\n"
    }
   }
  },
  {
   "cell_type": "code",
   "execution_count": 42,
   "outputs": [
    {
     "data": {
      "text/plain": "array([47., 47., 47., 47., 47., 46., 46., 46., 45., 46., 46., 45., 46.,\n       46., 46., 46.], dtype=float32)"
     },
     "execution_count": 42,
     "metadata": {},
     "output_type": "execute_result"
    }
   ],
   "source": [
    "# TVUP\n",
    "tvup = cn.get('\\\\TVUP').data()[::3600]\n",
    "tvup"
   ],
   "metadata": {
    "collapsed": false,
    "pycharm": {
     "name": "#%%\n"
    }
   }
  },
  {
   "cell_type": "code",
   "execution_count": 43,
   "outputs": [
    {
     "data": {
      "text/plain": "array([52., 52., 52., 52., 52., 52., 52., 52., 48., 49., 51., 49., 51.,\n       51., 51., 51.], dtype=float32)"
     },
     "execution_count": 43,
     "metadata": {},
     "output_type": "execute_result"
    }
   ],
   "source": [
    "# TVHF\n",
    "tvhf = cn.get('\\\\TVHF').data()[::3600]\n",
    "tvhf"
   ],
   "metadata": {
    "collapsed": false,
    "pycharm": {
     "name": "#%%\n"
    }
   }
  },
  {
   "cell_type": "code",
   "execution_count": 44,
   "outputs": [
    {
     "data": {
      "text/plain": "array([32., 32., 32., 31., 31., 31., 31., 31., 30., 30., 30., 29., 30.,\n       29., 30., 30.], dtype=float32)"
     },
     "execution_count": 44,
     "metadata": {},
     "output_type": "execute_result"
    }
   ],
   "source": [
    "# TVLP\n",
    "tvlp = cn.get('\\\\TVLP').data()[::3600]\n",
    "tvlp"
   ],
   "metadata": {
    "collapsed": false,
    "pycharm": {
     "name": "#%%\n"
    }
   }
  },
  {
   "cell_type": "code",
   "execution_count": null,
   "outputs": [],
   "source": [
    "# Set time range\n",
    "from"
   ],
   "metadata": {
    "collapsed": false,
    "pycharm": {
     "name": "#%%\n"
    }
   }
  },
  {
   "cell_type": "code",
   "execution_count": 46,
   "outputs": [
    {
     "ename": "TypeError",
     "evalue": "Index(...) must be called with a collection of some kind, 'Time' was passed",
     "output_type": "error",
     "traceback": [
      "\u001B[1;31m---------------------------------------------------------------------------\u001B[0m",
      "\u001B[1;31mTypeError\u001B[0m                                 Traceback (most recent call last)",
      "Input \u001B[1;32mIn [46]\u001B[0m, in \u001B[0;36m<cell line: 2>\u001B[1;34m()\u001B[0m\n\u001B[0;32m      1\u001B[0m \u001B[38;5;28;01mimport\u001B[39;00m \u001B[38;5;21;01mpandas\u001B[39;00m \u001B[38;5;28;01mas\u001B[39;00m \u001B[38;5;21;01mpd\u001B[39;00m\n\u001B[1;32m----> 2\u001B[0m df_ps \u001B[38;5;241m=\u001B[39m \u001B[43mpd\u001B[49m\u001B[38;5;241;43m.\u001B[39;49m\u001B[43mDataFrame\u001B[49m\u001B[43m(\u001B[49m\u001B[43mindex\u001B[49m\u001B[38;5;241;43m=\u001B[39;49m\u001B[38;5;124;43m'\u001B[39;49m\u001B[38;5;124;43mTime\u001B[39;49m\u001B[38;5;124;43m'\u001B[39;49m\u001B[43m,\u001B[49m\u001B[43mcolumns\u001B[49m\u001B[38;5;241;43m=\u001B[39;49m\u001B[43msignals_1\u001B[49m\u001B[43m)\u001B[49m\n\u001B[0;32m      3\u001B[0m df_ps\n",
      "File \u001B[1;32m~\\miniconda3\\envs\\d2l\\lib\\site-packages\\pandas\\core\\frame.py:529\u001B[0m, in \u001B[0;36mDataFrame.__init__\u001B[1;34m(self, data, index, columns, dtype, copy)\u001B[0m\n\u001B[0;32m    524\u001B[0m     mgr \u001B[38;5;241m=\u001B[39m \u001B[38;5;28mself\u001B[39m\u001B[38;5;241m.\u001B[39m_init_mgr(\n\u001B[0;32m    525\u001B[0m         data, axes\u001B[38;5;241m=\u001B[39m{\u001B[38;5;124m\"\u001B[39m\u001B[38;5;124mindex\u001B[39m\u001B[38;5;124m\"\u001B[39m: index, \u001B[38;5;124m\"\u001B[39m\u001B[38;5;124mcolumns\u001B[39m\u001B[38;5;124m\"\u001B[39m: columns}, dtype\u001B[38;5;241m=\u001B[39mdtype, copy\u001B[38;5;241m=\u001B[39mcopy\n\u001B[0;32m    526\u001B[0m     )\n\u001B[0;32m    528\u001B[0m \u001B[38;5;28;01melif\u001B[39;00m \u001B[38;5;28misinstance\u001B[39m(data, \u001B[38;5;28mdict\u001B[39m):\n\u001B[1;32m--> 529\u001B[0m     mgr \u001B[38;5;241m=\u001B[39m \u001B[43minit_dict\u001B[49m\u001B[43m(\u001B[49m\u001B[43mdata\u001B[49m\u001B[43m,\u001B[49m\u001B[43m \u001B[49m\u001B[43mindex\u001B[49m\u001B[43m,\u001B[49m\u001B[43m \u001B[49m\u001B[43mcolumns\u001B[49m\u001B[43m,\u001B[49m\u001B[43m \u001B[49m\u001B[43mdtype\u001B[49m\u001B[38;5;241;43m=\u001B[39;49m\u001B[43mdtype\u001B[49m\u001B[43m)\u001B[49m\n\u001B[0;32m    530\u001B[0m \u001B[38;5;28;01melif\u001B[39;00m \u001B[38;5;28misinstance\u001B[39m(data, ma\u001B[38;5;241m.\u001B[39mMaskedArray):\n\u001B[0;32m    531\u001B[0m     \u001B[38;5;28;01mimport\u001B[39;00m \u001B[38;5;21;01mnumpy\u001B[39;00m\u001B[38;5;21;01m.\u001B[39;00m\u001B[38;5;21;01mma\u001B[39;00m\u001B[38;5;21;01m.\u001B[39;00m\u001B[38;5;21;01mmrecords\u001B[39;00m \u001B[38;5;28;01mas\u001B[39;00m \u001B[38;5;21;01mmrecords\u001B[39;00m\n",
      "File \u001B[1;32m~\\miniconda3\\envs\\d2l\\lib\\site-packages\\pandas\\core\\internals\\construction.py:260\u001B[0m, in \u001B[0;36minit_dict\u001B[1;34m(data, index, columns, dtype)\u001B[0m\n\u001B[0;32m    258\u001B[0m     index \u001B[38;5;241m=\u001B[39m extract_index(arrays[\u001B[38;5;241m~\u001B[39mmissing])\n\u001B[0;32m    259\u001B[0m \u001B[38;5;28;01melse\u001B[39;00m:\n\u001B[1;32m--> 260\u001B[0m     index \u001B[38;5;241m=\u001B[39m \u001B[43mensure_index\u001B[49m\u001B[43m(\u001B[49m\u001B[43mindex\u001B[49m\u001B[43m)\u001B[49m\n\u001B[0;32m    262\u001B[0m \u001B[38;5;66;03m# no obvious \"empty\" int column\u001B[39;00m\n\u001B[0;32m    263\u001B[0m \u001B[38;5;28;01mif\u001B[39;00m missing\u001B[38;5;241m.\u001B[39many() \u001B[38;5;129;01mand\u001B[39;00m \u001B[38;5;129;01mnot\u001B[39;00m is_integer_dtype(dtype):\n",
      "File \u001B[1;32m~\\miniconda3\\envs\\d2l\\lib\\site-packages\\pandas\\core\\indexes\\base.py:5917\u001B[0m, in \u001B[0;36mensure_index\u001B[1;34m(index_like, copy)\u001B[0m\n\u001B[0;32m   5914\u001B[0m     \u001B[38;5;28;01mif\u001B[39;00m copy:\n\u001B[0;32m   5915\u001B[0m         index_like \u001B[38;5;241m=\u001B[39m copy_func(index_like)\n\u001B[1;32m-> 5917\u001B[0m \u001B[38;5;28;01mreturn\u001B[39;00m \u001B[43mIndex\u001B[49m\u001B[43m(\u001B[49m\u001B[43mindex_like\u001B[49m\u001B[43m)\u001B[49m\n",
      "File \u001B[1;32m~\\miniconda3\\envs\\d2l\\lib\\site-packages\\pandas\\core\\indexes\\base.py:372\u001B[0m, in \u001B[0;36mIndex.__new__\u001B[1;34m(cls, data, dtype, copy, name, tupleize_cols, **kwargs)\u001B[0m\n\u001B[0;32m    369\u001B[0m     \u001B[38;5;28;01mreturn\u001B[39;00m \u001B[38;5;28mcls\u001B[39m\u001B[38;5;241m.\u001B[39m_simple_new(subarr, name)\n\u001B[0;32m    371\u001B[0m \u001B[38;5;28;01melif\u001B[39;00m data \u001B[38;5;129;01mis\u001B[39;00m \u001B[38;5;28;01mNone\u001B[39;00m \u001B[38;5;129;01mor\u001B[39;00m is_scalar(data):\n\u001B[1;32m--> 372\u001B[0m     \u001B[38;5;28;01mraise\u001B[39;00m \u001B[38;5;28mcls\u001B[39m\u001B[38;5;241m.\u001B[39m_scalar_data_error(data)\n\u001B[0;32m    373\u001B[0m \u001B[38;5;28;01melif\u001B[39;00m \u001B[38;5;28mhasattr\u001B[39m(data, \u001B[38;5;124m\"\u001B[39m\u001B[38;5;124m__array__\u001B[39m\u001B[38;5;124m\"\u001B[39m):\n\u001B[0;32m    374\u001B[0m     \u001B[38;5;28;01mreturn\u001B[39;00m Index(np\u001B[38;5;241m.\u001B[39masarray(data), dtype\u001B[38;5;241m=\u001B[39mdtype, copy\u001B[38;5;241m=\u001B[39mcopy, name\u001B[38;5;241m=\u001B[39mname, \u001B[38;5;241m*\u001B[39m\u001B[38;5;241m*\u001B[39mkwargs)\n",
      "\u001B[1;31mTypeError\u001B[0m: Index(...) must be called with a collection of some kind, 'Time' was passed"
     ]
    }
   ],
   "source": [
    "import pandas as pd\n",
    "df_ps = pd.DataFrame(index=,columns=signals_1)\n",
    "df_ps"
   ],
   "metadata": {
    "collapsed": false,
    "pycharm": {
     "name": "#%%\n"
    }
   }
  },
  {
   "cell_type": "markdown",
   "source": [
    "# Pull the data of yesterday 8:00 - 23:00"
   ],
   "metadata": {
    "collapsed": false,
    "pycharm": {
     "name": "#%% md\n"
    }
   }
  },
  {
   "cell_type": "code",
   "execution_count": null,
   "outputs": [],
   "source": [],
   "metadata": {
    "collapsed": false,
    "pycharm": {
     "name": "#%%\n"
    }
   }
  }
 ],
 "metadata": {
  "kernelspec": {
   "display_name": "Python 3",
   "language": "python",
   "name": "python3"
  },
  "language_info": {
   "codemirror_mode": {
    "name": "ipython",
    "version": 2
   },
   "file_extension": ".py",
   "mimetype": "text/x-python",
   "name": "python",
   "nbconvert_exporter": "python",
   "pygments_lexer": "ipython2",
   "version": "2.7.6"
  }
 },
 "nbformat": 4,
 "nbformat_minor": 0
}