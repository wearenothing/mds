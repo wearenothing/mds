{
 "cells": [
  {
   "cell_type": "code",
   "execution_count": 43,
   "metadata": {
    "collapsed": true
   },
   "outputs": [],
   "source": [
    "import datetime\n",
    "import  MDSplus as mds\n",
    "from MDSplus import mdsExceptions\n",
    "import pandas as pd"
   ]
  },
  {
   "cell_type": "markdown",
   "source": [
    "# YOU CAN SET TIME HERE $\\downarrow$"
   ],
   "metadata": {
    "collapsed": false
   }
  },
  {
   "cell_type": "code",
   "source": [
    "seconds_each_hour = 3600\n",
    "start_time = 8  # Begin from yesterday 8 am\n",
    "end_time = 7  # Stop at today 7 am\n",
    "seconds_each_day = 24 * 3600\n",
    "today = datetime.datetime.now()\n",
    "yesterday = today + datetime.timedelta(days=-1)\n",
    "date_today = today.strftime(\"%Y%m%d\")  # type: str\n",
    "date_yesterday = yesterday.strftime(\"%Y%m%d\")\n",
    "time = pd.date_range(start=f\"{date_yesterday} {start_time}:00\",end=f\"{date_today} {end_time}:00\",freq='H')\n",
    "time"
   ],
   "metadata": {
    "collapsed": false,
    "pycharm": {
     "name": "#%%\n"
    }
   },
   "execution_count": 44,
   "outputs": [
    {
     "data": {
      "text/plain": "DatetimeIndex(['2022-11-15 08:00:00', '2022-11-15 09:00:00',\n               '2022-11-15 10:00:00', '2022-11-15 11:00:00',\n               '2022-11-15 12:00:00', '2022-11-15 13:00:00',\n               '2022-11-15 14:00:00', '2022-11-15 15:00:00',\n               '2022-11-15 16:00:00', '2022-11-15 17:00:00',\n               '2022-11-15 18:00:00', '2022-11-15 19:00:00',\n               '2022-11-15 20:00:00', '2022-11-15 21:00:00',\n               '2022-11-15 22:00:00', '2022-11-15 23:00:00',\n               '2022-11-16 00:00:00', '2022-11-16 01:00:00',\n               '2022-11-16 02:00:00', '2022-11-16 03:00:00',\n               '2022-11-16 04:00:00', '2022-11-16 05:00:00',\n               '2022-11-16 06:00:00', '2022-11-16 07:00:00'],\n              dtype='datetime64[ns]', freq='H')"
     },
     "execution_count": 44,
     "metadata": {},
     "output_type": "execute_result"
    }
   ]
  },
  {
   "cell_type": "markdown",
   "source": [
    "# Set up signals"
   ],
   "metadata": {
    "collapsed": false,
    "pycharm": {
     "name": "#%% md\n"
    }
   }
  },
  {
   "cell_type": "code",
   "execution_count": 45,
   "outputs": [
    {
     "data": {
      "text/plain": "                    G1_1 G1_7 G2_3 G2_4 G5_1 G5_4 G5_7 G5_3 G5_8 G5_5 G5_2  \\\n2022-11-15 08:00:00  NaN  NaN  NaN  NaN  NaN  NaN  NaN  NaN  NaN  NaN  NaN   \n2022-11-15 09:00:00  NaN  NaN  NaN  NaN  NaN  NaN  NaN  NaN  NaN  NaN  NaN   \n2022-11-15 10:00:00  NaN  NaN  NaN  NaN  NaN  NaN  NaN  NaN  NaN  NaN  NaN   \n2022-11-15 11:00:00  NaN  NaN  NaN  NaN  NaN  NaN  NaN  NaN  NaN  NaN  NaN   \n2022-11-15 12:00:00  NaN  NaN  NaN  NaN  NaN  NaN  NaN  NaN  NaN  NaN  NaN   \n2022-11-15 13:00:00  NaN  NaN  NaN  NaN  NaN  NaN  NaN  NaN  NaN  NaN  NaN   \n2022-11-15 14:00:00  NaN  NaN  NaN  NaN  NaN  NaN  NaN  NaN  NaN  NaN  NaN   \n2022-11-15 15:00:00  NaN  NaN  NaN  NaN  NaN  NaN  NaN  NaN  NaN  NaN  NaN   \n2022-11-15 16:00:00  NaN  NaN  NaN  NaN  NaN  NaN  NaN  NaN  NaN  NaN  NaN   \n2022-11-15 17:00:00  NaN  NaN  NaN  NaN  NaN  NaN  NaN  NaN  NaN  NaN  NaN   \n2022-11-15 18:00:00  NaN  NaN  NaN  NaN  NaN  NaN  NaN  NaN  NaN  NaN  NaN   \n2022-11-15 19:00:00  NaN  NaN  NaN  NaN  NaN  NaN  NaN  NaN  NaN  NaN  NaN   \n2022-11-15 20:00:00  NaN  NaN  NaN  NaN  NaN  NaN  NaN  NaN  NaN  NaN  NaN   \n2022-11-15 21:00:00  NaN  NaN  NaN  NaN  NaN  NaN  NaN  NaN  NaN  NaN  NaN   \n2022-11-15 22:00:00  NaN  NaN  NaN  NaN  NaN  NaN  NaN  NaN  NaN  NaN  NaN   \n2022-11-15 23:00:00  NaN  NaN  NaN  NaN  NaN  NaN  NaN  NaN  NaN  NaN  NaN   \n2022-11-16 00:00:00  NaN  NaN  NaN  NaN  NaN  NaN  NaN  NaN  NaN  NaN  NaN   \n2022-11-16 01:00:00  NaN  NaN  NaN  NaN  NaN  NaN  NaN  NaN  NaN  NaN  NaN   \n2022-11-16 02:00:00  NaN  NaN  NaN  NaN  NaN  NaN  NaN  NaN  NaN  NaN  NaN   \n2022-11-16 03:00:00  NaN  NaN  NaN  NaN  NaN  NaN  NaN  NaN  NaN  NaN  NaN   \n2022-11-16 04:00:00  NaN  NaN  NaN  NaN  NaN  NaN  NaN  NaN  NaN  NaN  NaN   \n2022-11-16 05:00:00  NaN  NaN  NaN  NaN  NaN  NaN  NaN  NaN  NaN  NaN  NaN   \n2022-11-16 06:00:00  NaN  NaN  NaN  NaN  NaN  NaN  NaN  NaN  NaN  NaN  NaN   \n2022-11-16 07:00:00  NaN  NaN  NaN  NaN  NaN  NaN  NaN  NaN  NaN  NaN  NaN   \n\n                    G5_6  \n2022-11-15 08:00:00  NaN  \n2022-11-15 09:00:00  NaN  \n2022-11-15 10:00:00  NaN  \n2022-11-15 11:00:00  NaN  \n2022-11-15 12:00:00  NaN  \n2022-11-15 13:00:00  NaN  \n2022-11-15 14:00:00  NaN  \n2022-11-15 15:00:00  NaN  \n2022-11-15 16:00:00  NaN  \n2022-11-15 17:00:00  NaN  \n2022-11-15 18:00:00  NaN  \n2022-11-15 19:00:00  NaN  \n2022-11-15 20:00:00  NaN  \n2022-11-15 21:00:00  NaN  \n2022-11-15 22:00:00  NaN  \n2022-11-15 23:00:00  NaN  \n2022-11-16 00:00:00  NaN  \n2022-11-16 01:00:00  NaN  \n2022-11-16 02:00:00  NaN  \n2022-11-16 03:00:00  NaN  \n2022-11-16 04:00:00  NaN  \n2022-11-16 05:00:00  NaN  \n2022-11-16 06:00:00  NaN  \n2022-11-16 07:00:00  NaN  ",
      "text/html": "<div>\n<style scoped>\n    .dataframe tbody tr th:only-of-type {\n        vertical-align: middle;\n    }\n\n    .dataframe tbody tr th {\n        vertical-align: top;\n    }\n\n    .dataframe thead th {\n        text-align: right;\n    }\n</style>\n<table border=\"1\" class=\"dataframe\">\n  <thead>\n    <tr style=\"text-align: right;\">\n      <th></th>\n      <th>G1_1</th>\n      <th>G1_7</th>\n      <th>G2_3</th>\n      <th>G2_4</th>\n      <th>G5_1</th>\n      <th>G5_4</th>\n      <th>G5_7</th>\n      <th>G5_3</th>\n      <th>G5_8</th>\n      <th>G5_5</th>\n      <th>G5_2</th>\n      <th>G5_6</th>\n    </tr>\n  </thead>\n  <tbody>\n    <tr>\n      <th>2022-11-15 08:00:00</th>\n      <td>NaN</td>\n      <td>NaN</td>\n      <td>NaN</td>\n      <td>NaN</td>\n      <td>NaN</td>\n      <td>NaN</td>\n      <td>NaN</td>\n      <td>NaN</td>\n      <td>NaN</td>\n      <td>NaN</td>\n      <td>NaN</td>\n      <td>NaN</td>\n    </tr>\n    <tr>\n      <th>2022-11-15 09:00:00</th>\n      <td>NaN</td>\n      <td>NaN</td>\n      <td>NaN</td>\n      <td>NaN</td>\n      <td>NaN</td>\n      <td>NaN</td>\n      <td>NaN</td>\n      <td>NaN</td>\n      <td>NaN</td>\n      <td>NaN</td>\n      <td>NaN</td>\n      <td>NaN</td>\n    </tr>\n    <tr>\n      <th>2022-11-15 10:00:00</th>\n      <td>NaN</td>\n      <td>NaN</td>\n      <td>NaN</td>\n      <td>NaN</td>\n      <td>NaN</td>\n      <td>NaN</td>\n      <td>NaN</td>\n      <td>NaN</td>\n      <td>NaN</td>\n      <td>NaN</td>\n      <td>NaN</td>\n      <td>NaN</td>\n    </tr>\n    <tr>\n      <th>2022-11-15 11:00:00</th>\n      <td>NaN</td>\n      <td>NaN</td>\n      <td>NaN</td>\n      <td>NaN</td>\n      <td>NaN</td>\n      <td>NaN</td>\n      <td>NaN</td>\n      <td>NaN</td>\n      <td>NaN</td>\n      <td>NaN</td>\n      <td>NaN</td>\n      <td>NaN</td>\n    </tr>\n    <tr>\n      <th>2022-11-15 12:00:00</th>\n      <td>NaN</td>\n      <td>NaN</td>\n      <td>NaN</td>\n      <td>NaN</td>\n      <td>NaN</td>\n      <td>NaN</td>\n      <td>NaN</td>\n      <td>NaN</td>\n      <td>NaN</td>\n      <td>NaN</td>\n      <td>NaN</td>\n      <td>NaN</td>\n    </tr>\n    <tr>\n      <th>2022-11-15 13:00:00</th>\n      <td>NaN</td>\n      <td>NaN</td>\n      <td>NaN</td>\n      <td>NaN</td>\n      <td>NaN</td>\n      <td>NaN</td>\n      <td>NaN</td>\n      <td>NaN</td>\n      <td>NaN</td>\n      <td>NaN</td>\n      <td>NaN</td>\n      <td>NaN</td>\n    </tr>\n    <tr>\n      <th>2022-11-15 14:00:00</th>\n      <td>NaN</td>\n      <td>NaN</td>\n      <td>NaN</td>\n      <td>NaN</td>\n      <td>NaN</td>\n      <td>NaN</td>\n      <td>NaN</td>\n      <td>NaN</td>\n      <td>NaN</td>\n      <td>NaN</td>\n      <td>NaN</td>\n      <td>NaN</td>\n    </tr>\n    <tr>\n      <th>2022-11-15 15:00:00</th>\n      <td>NaN</td>\n      <td>NaN</td>\n      <td>NaN</td>\n      <td>NaN</td>\n      <td>NaN</td>\n      <td>NaN</td>\n      <td>NaN</td>\n      <td>NaN</td>\n      <td>NaN</td>\n      <td>NaN</td>\n      <td>NaN</td>\n      <td>NaN</td>\n    </tr>\n    <tr>\n      <th>2022-11-15 16:00:00</th>\n      <td>NaN</td>\n      <td>NaN</td>\n      <td>NaN</td>\n      <td>NaN</td>\n      <td>NaN</td>\n      <td>NaN</td>\n      <td>NaN</td>\n      <td>NaN</td>\n      <td>NaN</td>\n      <td>NaN</td>\n      <td>NaN</td>\n      <td>NaN</td>\n    </tr>\n    <tr>\n      <th>2022-11-15 17:00:00</th>\n      <td>NaN</td>\n      <td>NaN</td>\n      <td>NaN</td>\n      <td>NaN</td>\n      <td>NaN</td>\n      <td>NaN</td>\n      <td>NaN</td>\n      <td>NaN</td>\n      <td>NaN</td>\n      <td>NaN</td>\n      <td>NaN</td>\n      <td>NaN</td>\n    </tr>\n    <tr>\n      <th>2022-11-15 18:00:00</th>\n      <td>NaN</td>\n      <td>NaN</td>\n      <td>NaN</td>\n      <td>NaN</td>\n      <td>NaN</td>\n      <td>NaN</td>\n      <td>NaN</td>\n      <td>NaN</td>\n      <td>NaN</td>\n      <td>NaN</td>\n      <td>NaN</td>\n      <td>NaN</td>\n    </tr>\n    <tr>\n      <th>2022-11-15 19:00:00</th>\n      <td>NaN</td>\n      <td>NaN</td>\n      <td>NaN</td>\n      <td>NaN</td>\n      <td>NaN</td>\n      <td>NaN</td>\n      <td>NaN</td>\n      <td>NaN</td>\n      <td>NaN</td>\n      <td>NaN</td>\n      <td>NaN</td>\n      <td>NaN</td>\n    </tr>\n    <tr>\n      <th>2022-11-15 20:00:00</th>\n      <td>NaN</td>\n      <td>NaN</td>\n      <td>NaN</td>\n      <td>NaN</td>\n      <td>NaN</td>\n      <td>NaN</td>\n      <td>NaN</td>\n      <td>NaN</td>\n      <td>NaN</td>\n      <td>NaN</td>\n      <td>NaN</td>\n      <td>NaN</td>\n    </tr>\n    <tr>\n      <th>2022-11-15 21:00:00</th>\n      <td>NaN</td>\n      <td>NaN</td>\n      <td>NaN</td>\n      <td>NaN</td>\n      <td>NaN</td>\n      <td>NaN</td>\n      <td>NaN</td>\n      <td>NaN</td>\n      <td>NaN</td>\n      <td>NaN</td>\n      <td>NaN</td>\n      <td>NaN</td>\n    </tr>\n    <tr>\n      <th>2022-11-15 22:00:00</th>\n      <td>NaN</td>\n      <td>NaN</td>\n      <td>NaN</td>\n      <td>NaN</td>\n      <td>NaN</td>\n      <td>NaN</td>\n      <td>NaN</td>\n      <td>NaN</td>\n      <td>NaN</td>\n      <td>NaN</td>\n      <td>NaN</td>\n      <td>NaN</td>\n    </tr>\n    <tr>\n      <th>2022-11-15 23:00:00</th>\n      <td>NaN</td>\n      <td>NaN</td>\n      <td>NaN</td>\n      <td>NaN</td>\n      <td>NaN</td>\n      <td>NaN</td>\n      <td>NaN</td>\n      <td>NaN</td>\n      <td>NaN</td>\n      <td>NaN</td>\n      <td>NaN</td>\n      <td>NaN</td>\n    </tr>\n    <tr>\n      <th>2022-11-16 00:00:00</th>\n      <td>NaN</td>\n      <td>NaN</td>\n      <td>NaN</td>\n      <td>NaN</td>\n      <td>NaN</td>\n      <td>NaN</td>\n      <td>NaN</td>\n      <td>NaN</td>\n      <td>NaN</td>\n      <td>NaN</td>\n      <td>NaN</td>\n      <td>NaN</td>\n    </tr>\n    <tr>\n      <th>2022-11-16 01:00:00</th>\n      <td>NaN</td>\n      <td>NaN</td>\n      <td>NaN</td>\n      <td>NaN</td>\n      <td>NaN</td>\n      <td>NaN</td>\n      <td>NaN</td>\n      <td>NaN</td>\n      <td>NaN</td>\n      <td>NaN</td>\n      <td>NaN</td>\n      <td>NaN</td>\n    </tr>\n    <tr>\n      <th>2022-11-16 02:00:00</th>\n      <td>NaN</td>\n      <td>NaN</td>\n      <td>NaN</td>\n      <td>NaN</td>\n      <td>NaN</td>\n      <td>NaN</td>\n      <td>NaN</td>\n      <td>NaN</td>\n      <td>NaN</td>\n      <td>NaN</td>\n      <td>NaN</td>\n      <td>NaN</td>\n    </tr>\n    <tr>\n      <th>2022-11-16 03:00:00</th>\n      <td>NaN</td>\n      <td>NaN</td>\n      <td>NaN</td>\n      <td>NaN</td>\n      <td>NaN</td>\n      <td>NaN</td>\n      <td>NaN</td>\n      <td>NaN</td>\n      <td>NaN</td>\n      <td>NaN</td>\n      <td>NaN</td>\n      <td>NaN</td>\n    </tr>\n    <tr>\n      <th>2022-11-16 04:00:00</th>\n      <td>NaN</td>\n      <td>NaN</td>\n      <td>NaN</td>\n      <td>NaN</td>\n      <td>NaN</td>\n      <td>NaN</td>\n      <td>NaN</td>\n      <td>NaN</td>\n      <td>NaN</td>\n      <td>NaN</td>\n      <td>NaN</td>\n      <td>NaN</td>\n    </tr>\n    <tr>\n      <th>2022-11-16 05:00:00</th>\n      <td>NaN</td>\n      <td>NaN</td>\n      <td>NaN</td>\n      <td>NaN</td>\n      <td>NaN</td>\n      <td>NaN</td>\n      <td>NaN</td>\n      <td>NaN</td>\n      <td>NaN</td>\n      <td>NaN</td>\n      <td>NaN</td>\n      <td>NaN</td>\n    </tr>\n    <tr>\n      <th>2022-11-16 06:00:00</th>\n      <td>NaN</td>\n      <td>NaN</td>\n      <td>NaN</td>\n      <td>NaN</td>\n      <td>NaN</td>\n      <td>NaN</td>\n      <td>NaN</td>\n      <td>NaN</td>\n      <td>NaN</td>\n      <td>NaN</td>\n      <td>NaN</td>\n      <td>NaN</td>\n    </tr>\n    <tr>\n      <th>2022-11-16 07:00:00</th>\n      <td>NaN</td>\n      <td>NaN</td>\n      <td>NaN</td>\n      <td>NaN</td>\n      <td>NaN</td>\n      <td>NaN</td>\n      <td>NaN</td>\n      <td>NaN</td>\n      <td>NaN</td>\n      <td>NaN</td>\n      <td>NaN</td>\n      <td>NaN</td>\n    </tr>\n  </tbody>\n</table>\n</div>"
     },
     "execution_count": 45,
     "metadata": {},
     "output_type": "execute_result"
    }
   ],
   "source": [
    "# 压力信号\n",
    "signals_1 = ['G1_1', 'G1_7', 'G2_3', 'G2_4','G5_1', 'G5_4', 'G5_7', 'G5_3','G5_8', 'G5_5', 'G5_2', 'G5_6']# 压强信号\n",
    "# 温度信号\n",
    "signals_2 =['TVVG','TVVI','TVVM','THFM','TPG1','TPE18','TPO3','TPO15','TVUP','TVHF','TVLP'] # 'I'真空室壁温度需要问其他组？？\n",
    "\n",
    "df_ps = pd.DataFrame(index=time, columns=signals_1)\n",
    "df_tp = pd.DataFrame(index=time, columns=signals_2)\n",
    "df_ps"
   ],
   "metadata": {
    "collapsed": false,
    "pycharm": {
     "name": "#%%\n"
    }
   }
  },
  {
   "cell_type": "markdown",
   "source": [
    "# Pull the data of yesterday 8:00 - 23:00"
   ],
   "metadata": {
    "collapsed": false,
    "pycharm": {
     "name": "#%% md\n"
    }
   }
  },
  {
   "cell_type": "code",
   "execution_count": 46,
   "outputs": [],
   "source": [
    "cn = mds.Connection(\"mds.ipp.ac.cn\")\n",
    "cn.openTree(\"eng_tree\",int(date_yesterday)) # Typically, this tree is accessible\n",
    "# pressure data of yesterday\n",
    "for i,signal in enumerate(signals_1):\n",
    "    try:\n",
    "        data = cn.get(f'\\\\{signal}')\n",
    "    except mds.connection.MdsIpException:\n",
    "        pass\n",
    "    else:\n",
    "        df_ps.iloc[:24-start_time,i] = data.data()[start_time*seconds_each_hour::3600]\n",
    "\n",
    "# Temperature data of yesterday\n",
    "for i,signal in enumerate(signals_2):\n",
    "    try:\n",
    "        data = cn.get(f'\\\\{signal}')\n",
    "    except mds.connection.MdsIpException:\n",
    "        pass\n",
    "    else:\n",
    "        df_tp.iloc[:24-start_time,i] = data.data()[start_time*seconds_each_hour::3600]\n",
    "cn.closeTree(\"eng_tree\", int(date_yesterday))\n"
   ],
   "metadata": {
    "collapsed": false,
    "pycharm": {
     "name": "#%%\n"
    }
   }
  },
  {
   "cell_type": "code",
   "execution_count": 47,
   "outputs": [
    {
     "data": {
      "text/plain": "                         G1_1      G1_7      G2_3      G2_4      G5_1  \\\n2022-11-15 08:00:00  0.000043  0.000101  0.000429  0.000662  0.000554   \n2022-11-15 09:00:00  0.000041  0.000114  0.000411  0.000662   0.00053   \n2022-11-15 10:00:00  0.000209       0.0  0.000393  0.000633   0.00053   \n2022-11-15 11:00:00       0.0       0.0  0.000376   0.00058   0.00053   \n2022-11-15 12:00:00       0.0       0.0  0.000359  0.000554   0.00053   \n2022-11-15 13:00:00       0.0       0.0  0.000344   0.00053  0.000507   \n2022-11-15 14:00:00       0.0       0.0  0.000329  0.000507  0.000507   \n2022-11-15 15:00:00       0.0       0.0  0.000315  0.000485  0.000507   \n2022-11-15 16:00:00       0.0       0.0  0.000288  0.000444  0.000507   \n2022-11-15 17:00:00       0.0       0.0  0.000275  0.000425  0.000507   \n2022-11-15 18:00:00       0.0       0.0  0.000263  0.000406  0.000507   \n2022-11-15 19:00:00       0.0       0.0  0.000241  0.000372  0.000485   \n2022-11-15 20:00:00       0.0       0.0  0.000231  0.000356  0.000485   \n2022-11-15 21:00:00  0.000241       0.0  0.000148  0.000228  0.000485   \n2022-11-15 22:00:00  0.000035       0.0  0.000091  0.000134  0.000485   \n2022-11-15 23:00:00  0.000032       0.0  0.000069  0.000102  0.000464   \n2022-11-16 00:00:00       NaN       NaN       NaN       NaN       NaN   \n2022-11-16 01:00:00       NaN       NaN       NaN       NaN       NaN   \n2022-11-16 02:00:00       NaN       NaN       NaN       NaN       NaN   \n2022-11-16 03:00:00       NaN       NaN       NaN       NaN       NaN   \n2022-11-16 04:00:00       NaN       NaN       NaN       NaN       NaN   \n2022-11-16 05:00:00       NaN       NaN       NaN       NaN       NaN   \n2022-11-16 06:00:00       NaN       NaN       NaN       NaN       NaN   \n2022-11-16 07:00:00       NaN       NaN       NaN       NaN       NaN   \n\n                         G5_4      G5_7      G5_3      G5_8      G5_5  \\\n2022-11-15 08:00:00  0.001924  0.000641  0.003242  0.001234  0.000189   \n2022-11-15 09:00:00  0.001902  0.000641  0.003242   0.00118  0.000185   \n2022-11-15 10:00:00   0.00182  0.000641  0.003101   0.00118  0.000179   \n2022-11-15 11:00:00   0.00182  0.000641  0.003101   0.00118  0.000175   \n2022-11-15 12:00:00   0.00182  0.000641  0.003101   0.00118  0.000173   \n2022-11-15 13:00:00   0.00182  0.000641  0.003101   0.00118  0.000177   \n2022-11-15 14:00:00   0.00182  0.000641  0.003101   0.00118  0.000185   \n2022-11-15 15:00:00   0.00182  0.000641  0.003101   0.00118  0.000185   \n2022-11-15 16:00:00   0.00182  0.000641  0.003101   0.00118  0.000183   \n2022-11-15 17:00:00   0.00182  0.000641  0.003067   0.00118  0.000181   \n2022-11-15 18:00:00   0.00182  0.000641  0.002102   0.00118  0.000185   \n2022-11-15 19:00:00   0.00176  0.000613  0.003033  0.001129  0.000179   \n2022-11-15 20:00:00   0.00178  0.000613  0.003033  0.001129  0.000181   \n2022-11-15 21:00:00   0.00178  0.000613  0.003033  0.001129  0.000177   \n2022-11-15 22:00:00   0.00178  0.000613  0.003033  0.001129  0.000153   \n2022-11-15 23:00:00   0.00178  0.000613  0.002902  0.001129  0.000145   \n2022-11-16 00:00:00       NaN       NaN       NaN       NaN       NaN   \n2022-11-16 01:00:00       NaN       NaN       NaN       NaN       NaN   \n2022-11-16 02:00:00       NaN       NaN       NaN       NaN       NaN   \n2022-11-16 03:00:00       NaN       NaN       NaN       NaN       NaN   \n2022-11-16 04:00:00       NaN       NaN       NaN       NaN       NaN   \n2022-11-16 05:00:00       NaN       NaN       NaN       NaN       NaN   \n2022-11-16 06:00:00       NaN       NaN       NaN       NaN       NaN   \n2022-11-16 07:00:00       NaN       NaN       NaN       NaN       NaN   \n\n                         G5_2      G5_6  \n2022-11-15 08:00:00  0.000165  0.000599  \n2022-11-15 09:00:00  0.000158  0.000599  \n2022-11-15 10:00:00  0.000158  0.000573  \n2022-11-15 11:00:00  0.000158  0.000573  \n2022-11-15 12:00:00  0.000158  0.000573  \n2022-11-15 13:00:00  0.000158  0.000573  \n2022-11-15 14:00:00  0.000158  0.000573  \n2022-11-15 15:00:00  0.000158  0.000573  \n2022-11-15 16:00:00  0.000158  0.000573  \n2022-11-15 17:00:00  0.000158  0.000573  \n2022-11-15 18:00:00  0.000158  0.000573  \n2022-11-15 19:00:00  0.000158  0.000548  \n2022-11-15 20:00:00  0.000158  0.000548  \n2022-11-15 21:00:00  0.000158  0.000548  \n2022-11-15 22:00:00  0.000158  0.000548  \n2022-11-15 23:00:00  0.000158  0.000548  \n2022-11-16 00:00:00       NaN       NaN  \n2022-11-16 01:00:00       NaN       NaN  \n2022-11-16 02:00:00       NaN       NaN  \n2022-11-16 03:00:00       NaN       NaN  \n2022-11-16 04:00:00       NaN       NaN  \n2022-11-16 05:00:00       NaN       NaN  \n2022-11-16 06:00:00       NaN       NaN  \n2022-11-16 07:00:00       NaN       NaN  ",
      "text/html": "<div>\n<style scoped>\n    .dataframe tbody tr th:only-of-type {\n        vertical-align: middle;\n    }\n\n    .dataframe tbody tr th {\n        vertical-align: top;\n    }\n\n    .dataframe thead th {\n        text-align: right;\n    }\n</style>\n<table border=\"1\" class=\"dataframe\">\n  <thead>\n    <tr style=\"text-align: right;\">\n      <th></th>\n      <th>G1_1</th>\n      <th>G1_7</th>\n      <th>G2_3</th>\n      <th>G2_4</th>\n      <th>G5_1</th>\n      <th>G5_4</th>\n      <th>G5_7</th>\n      <th>G5_3</th>\n      <th>G5_8</th>\n      <th>G5_5</th>\n      <th>G5_2</th>\n      <th>G5_6</th>\n    </tr>\n  </thead>\n  <tbody>\n    <tr>\n      <th>2022-11-15 08:00:00</th>\n      <td>0.000043</td>\n      <td>0.000101</td>\n      <td>0.000429</td>\n      <td>0.000662</td>\n      <td>0.000554</td>\n      <td>0.001924</td>\n      <td>0.000641</td>\n      <td>0.003242</td>\n      <td>0.001234</td>\n      <td>0.000189</td>\n      <td>0.000165</td>\n      <td>0.000599</td>\n    </tr>\n    <tr>\n      <th>2022-11-15 09:00:00</th>\n      <td>0.000041</td>\n      <td>0.000114</td>\n      <td>0.000411</td>\n      <td>0.000662</td>\n      <td>0.00053</td>\n      <td>0.001902</td>\n      <td>0.000641</td>\n      <td>0.003242</td>\n      <td>0.00118</td>\n      <td>0.000185</td>\n      <td>0.000158</td>\n      <td>0.000599</td>\n    </tr>\n    <tr>\n      <th>2022-11-15 10:00:00</th>\n      <td>0.000209</td>\n      <td>0.0</td>\n      <td>0.000393</td>\n      <td>0.000633</td>\n      <td>0.00053</td>\n      <td>0.00182</td>\n      <td>0.000641</td>\n      <td>0.003101</td>\n      <td>0.00118</td>\n      <td>0.000179</td>\n      <td>0.000158</td>\n      <td>0.000573</td>\n    </tr>\n    <tr>\n      <th>2022-11-15 11:00:00</th>\n      <td>0.0</td>\n      <td>0.0</td>\n      <td>0.000376</td>\n      <td>0.00058</td>\n      <td>0.00053</td>\n      <td>0.00182</td>\n      <td>0.000641</td>\n      <td>0.003101</td>\n      <td>0.00118</td>\n      <td>0.000175</td>\n      <td>0.000158</td>\n      <td>0.000573</td>\n    </tr>\n    <tr>\n      <th>2022-11-15 12:00:00</th>\n      <td>0.0</td>\n      <td>0.0</td>\n      <td>0.000359</td>\n      <td>0.000554</td>\n      <td>0.00053</td>\n      <td>0.00182</td>\n      <td>0.000641</td>\n      <td>0.003101</td>\n      <td>0.00118</td>\n      <td>0.000173</td>\n      <td>0.000158</td>\n      <td>0.000573</td>\n    </tr>\n    <tr>\n      <th>2022-11-15 13:00:00</th>\n      <td>0.0</td>\n      <td>0.0</td>\n      <td>0.000344</td>\n      <td>0.00053</td>\n      <td>0.000507</td>\n      <td>0.00182</td>\n      <td>0.000641</td>\n      <td>0.003101</td>\n      <td>0.00118</td>\n      <td>0.000177</td>\n      <td>0.000158</td>\n      <td>0.000573</td>\n    </tr>\n    <tr>\n      <th>2022-11-15 14:00:00</th>\n      <td>0.0</td>\n      <td>0.0</td>\n      <td>0.000329</td>\n      <td>0.000507</td>\n      <td>0.000507</td>\n      <td>0.00182</td>\n      <td>0.000641</td>\n      <td>0.003101</td>\n      <td>0.00118</td>\n      <td>0.000185</td>\n      <td>0.000158</td>\n      <td>0.000573</td>\n    </tr>\n    <tr>\n      <th>2022-11-15 15:00:00</th>\n      <td>0.0</td>\n      <td>0.0</td>\n      <td>0.000315</td>\n      <td>0.000485</td>\n      <td>0.000507</td>\n      <td>0.00182</td>\n      <td>0.000641</td>\n      <td>0.003101</td>\n      <td>0.00118</td>\n      <td>0.000185</td>\n      <td>0.000158</td>\n      <td>0.000573</td>\n    </tr>\n    <tr>\n      <th>2022-11-15 16:00:00</th>\n      <td>0.0</td>\n      <td>0.0</td>\n      <td>0.000288</td>\n      <td>0.000444</td>\n      <td>0.000507</td>\n      <td>0.00182</td>\n      <td>0.000641</td>\n      <td>0.003101</td>\n      <td>0.00118</td>\n      <td>0.000183</td>\n      <td>0.000158</td>\n      <td>0.000573</td>\n    </tr>\n    <tr>\n      <th>2022-11-15 17:00:00</th>\n      <td>0.0</td>\n      <td>0.0</td>\n      <td>0.000275</td>\n      <td>0.000425</td>\n      <td>0.000507</td>\n      <td>0.00182</td>\n      <td>0.000641</td>\n      <td>0.003067</td>\n      <td>0.00118</td>\n      <td>0.000181</td>\n      <td>0.000158</td>\n      <td>0.000573</td>\n    </tr>\n    <tr>\n      <th>2022-11-15 18:00:00</th>\n      <td>0.0</td>\n      <td>0.0</td>\n      <td>0.000263</td>\n      <td>0.000406</td>\n      <td>0.000507</td>\n      <td>0.00182</td>\n      <td>0.000641</td>\n      <td>0.002102</td>\n      <td>0.00118</td>\n      <td>0.000185</td>\n      <td>0.000158</td>\n      <td>0.000573</td>\n    </tr>\n    <tr>\n      <th>2022-11-15 19:00:00</th>\n      <td>0.0</td>\n      <td>0.0</td>\n      <td>0.000241</td>\n      <td>0.000372</td>\n      <td>0.000485</td>\n      <td>0.00176</td>\n      <td>0.000613</td>\n      <td>0.003033</td>\n      <td>0.001129</td>\n      <td>0.000179</td>\n      <td>0.000158</td>\n      <td>0.000548</td>\n    </tr>\n    <tr>\n      <th>2022-11-15 20:00:00</th>\n      <td>0.0</td>\n      <td>0.0</td>\n      <td>0.000231</td>\n      <td>0.000356</td>\n      <td>0.000485</td>\n      <td>0.00178</td>\n      <td>0.000613</td>\n      <td>0.003033</td>\n      <td>0.001129</td>\n      <td>0.000181</td>\n      <td>0.000158</td>\n      <td>0.000548</td>\n    </tr>\n    <tr>\n      <th>2022-11-15 21:00:00</th>\n      <td>0.000241</td>\n      <td>0.0</td>\n      <td>0.000148</td>\n      <td>0.000228</td>\n      <td>0.000485</td>\n      <td>0.00178</td>\n      <td>0.000613</td>\n      <td>0.003033</td>\n      <td>0.001129</td>\n      <td>0.000177</td>\n      <td>0.000158</td>\n      <td>0.000548</td>\n    </tr>\n    <tr>\n      <th>2022-11-15 22:00:00</th>\n      <td>0.000035</td>\n      <td>0.0</td>\n      <td>0.000091</td>\n      <td>0.000134</td>\n      <td>0.000485</td>\n      <td>0.00178</td>\n      <td>0.000613</td>\n      <td>0.003033</td>\n      <td>0.001129</td>\n      <td>0.000153</td>\n      <td>0.000158</td>\n      <td>0.000548</td>\n    </tr>\n    <tr>\n      <th>2022-11-15 23:00:00</th>\n      <td>0.000032</td>\n      <td>0.0</td>\n      <td>0.000069</td>\n      <td>0.000102</td>\n      <td>0.000464</td>\n      <td>0.00178</td>\n      <td>0.000613</td>\n      <td>0.002902</td>\n      <td>0.001129</td>\n      <td>0.000145</td>\n      <td>0.000158</td>\n      <td>0.000548</td>\n    </tr>\n    <tr>\n      <th>2022-11-16 00:00:00</th>\n      <td>NaN</td>\n      <td>NaN</td>\n      <td>NaN</td>\n      <td>NaN</td>\n      <td>NaN</td>\n      <td>NaN</td>\n      <td>NaN</td>\n      <td>NaN</td>\n      <td>NaN</td>\n      <td>NaN</td>\n      <td>NaN</td>\n      <td>NaN</td>\n    </tr>\n    <tr>\n      <th>2022-11-16 01:00:00</th>\n      <td>NaN</td>\n      <td>NaN</td>\n      <td>NaN</td>\n      <td>NaN</td>\n      <td>NaN</td>\n      <td>NaN</td>\n      <td>NaN</td>\n      <td>NaN</td>\n      <td>NaN</td>\n      <td>NaN</td>\n      <td>NaN</td>\n      <td>NaN</td>\n    </tr>\n    <tr>\n      <th>2022-11-16 02:00:00</th>\n      <td>NaN</td>\n      <td>NaN</td>\n      <td>NaN</td>\n      <td>NaN</td>\n      <td>NaN</td>\n      <td>NaN</td>\n      <td>NaN</td>\n      <td>NaN</td>\n      <td>NaN</td>\n      <td>NaN</td>\n      <td>NaN</td>\n      <td>NaN</td>\n    </tr>\n    <tr>\n      <th>2022-11-16 03:00:00</th>\n      <td>NaN</td>\n      <td>NaN</td>\n      <td>NaN</td>\n      <td>NaN</td>\n      <td>NaN</td>\n      <td>NaN</td>\n      <td>NaN</td>\n      <td>NaN</td>\n      <td>NaN</td>\n      <td>NaN</td>\n      <td>NaN</td>\n      <td>NaN</td>\n    </tr>\n    <tr>\n      <th>2022-11-16 04:00:00</th>\n      <td>NaN</td>\n      <td>NaN</td>\n      <td>NaN</td>\n      <td>NaN</td>\n      <td>NaN</td>\n      <td>NaN</td>\n      <td>NaN</td>\n      <td>NaN</td>\n      <td>NaN</td>\n      <td>NaN</td>\n      <td>NaN</td>\n      <td>NaN</td>\n    </tr>\n    <tr>\n      <th>2022-11-16 05:00:00</th>\n      <td>NaN</td>\n      <td>NaN</td>\n      <td>NaN</td>\n      <td>NaN</td>\n      <td>NaN</td>\n      <td>NaN</td>\n      <td>NaN</td>\n      <td>NaN</td>\n      <td>NaN</td>\n      <td>NaN</td>\n      <td>NaN</td>\n      <td>NaN</td>\n    </tr>\n    <tr>\n      <th>2022-11-16 06:00:00</th>\n      <td>NaN</td>\n      <td>NaN</td>\n      <td>NaN</td>\n      <td>NaN</td>\n      <td>NaN</td>\n      <td>NaN</td>\n      <td>NaN</td>\n      <td>NaN</td>\n      <td>NaN</td>\n      <td>NaN</td>\n      <td>NaN</td>\n      <td>NaN</td>\n    </tr>\n    <tr>\n      <th>2022-11-16 07:00:00</th>\n      <td>NaN</td>\n      <td>NaN</td>\n      <td>NaN</td>\n      <td>NaN</td>\n      <td>NaN</td>\n      <td>NaN</td>\n      <td>NaN</td>\n      <td>NaN</td>\n      <td>NaN</td>\n      <td>NaN</td>\n      <td>NaN</td>\n      <td>NaN</td>\n    </tr>\n  </tbody>\n</table>\n</div>"
     },
     "execution_count": 47,
     "metadata": {},
     "output_type": "execute_result"
    }
   ],
   "source": [
    "df_ps"
   ],
   "metadata": {
    "collapsed": false,
    "pycharm": {
     "name": "#%%\n"
    }
   }
  },
  {
   "cell_type": "markdown",
   "source": [
    "# Get data of today 00:00 - 7:00"
   ],
   "metadata": {
    "collapsed": false,
    "pycharm": {
     "name": "#%% md\n"
    }
   }
  },
  {
   "cell_type": "code",
   "execution_count": 48,
   "outputs": [],
   "source": [
    "cn.openTree(\"eng_tree\",int(date_today)) # Typically, this tree is accessible\n",
    "# pressure data of yesterday\n",
    "for i,signal in enumerate(signals_1):\n",
    "    try:\n",
    "        data = cn.get(f'\\\\{signal}')\n",
    "    except mds.connection.MdsIpException:\n",
    "        pass\n",
    "    else:\n",
    "        df_ps.iloc[24-start_time:,i] = data.data()[:end_time*seconds_each_hour+1:3600]\n",
    "\n",
    "# Temperature data of yesterday\n",
    "for i,signal in enumerate(signals_2):\n",
    "    try:\n",
    "        data = cn.get(f'\\\\{signal}')\n",
    "    except mds.connection.MdsIpException:\n",
    "        pass\n",
    "    else:\n",
    "        df_tp.iloc[24-start_time:,i] = data.data()[:end_time*seconds_each_hour+1:3600]\n",
    "cn.closeTree(\"eng_tree\", int(date_today))"
   ],
   "metadata": {
    "collapsed": false,
    "pycharm": {
     "name": "#%%\n"
    }
   }
  },
  {
   "cell_type": "code",
   "execution_count": 49,
   "outputs": [
    {
     "data": {
      "text/plain": "                         G1_1      G1_7      G2_3      G2_4      G5_1  \\\n2022-11-15 08:00:00  0.000043  0.000101  0.000429  0.000662  0.000554   \n2022-11-15 09:00:00  0.000041  0.000114  0.000411  0.000662   0.00053   \n2022-11-15 10:00:00  0.000209       0.0  0.000393  0.000633   0.00053   \n2022-11-15 11:00:00       0.0       0.0  0.000376   0.00058   0.00053   \n2022-11-15 12:00:00       0.0       0.0  0.000359  0.000554   0.00053   \n2022-11-15 13:00:00       0.0       0.0  0.000344   0.00053  0.000507   \n2022-11-15 14:00:00       0.0       0.0  0.000329  0.000507  0.000507   \n2022-11-15 15:00:00       0.0       0.0  0.000315  0.000485  0.000507   \n2022-11-15 16:00:00       0.0       0.0  0.000288  0.000444  0.000507   \n2022-11-15 17:00:00       0.0       0.0  0.000275  0.000425  0.000507   \n2022-11-15 18:00:00       0.0       0.0  0.000263  0.000406  0.000507   \n2022-11-15 19:00:00       0.0       0.0  0.000241  0.000372  0.000485   \n2022-11-15 20:00:00       0.0       0.0  0.000231  0.000356  0.000485   \n2022-11-15 21:00:00  0.000241       0.0  0.000148  0.000228  0.000485   \n2022-11-15 22:00:00  0.000035       0.0  0.000091  0.000134  0.000485   \n2022-11-15 23:00:00  0.000032       0.0  0.000069  0.000102  0.000464   \n2022-11-16 00:00:00   0.00003       0.0  0.000051  0.000078  0.000464   \n2022-11-16 01:00:00  0.000028       0.0  0.000047  0.000069  0.000444   \n2022-11-16 02:00:00  0.000028       0.0  0.000043  0.000063  0.000444   \n2022-11-16 03:00:00  0.000027       0.0  0.000041  0.000058  0.000444   \n2022-11-16 04:00:00  0.000026       0.0  0.000039  0.000058  0.000425   \n2022-11-16 05:00:00  0.000026       0.0  0.000039  0.000055  0.000425   \n2022-11-16 06:00:00  0.000025       0.0  0.000039  0.000055  0.000425   \n2022-11-16 07:00:00  0.000025       0.0  0.000036  0.000053  0.000425   \n\n                         G5_4      G5_7      G5_3      G5_8      G5_5  \\\n2022-11-15 08:00:00  0.001924  0.000641  0.003242  0.001234  0.000189   \n2022-11-15 09:00:00  0.001902  0.000641  0.003242   0.00118  0.000185   \n2022-11-15 10:00:00   0.00182  0.000641  0.003101   0.00118  0.000179   \n2022-11-15 11:00:00   0.00182  0.000641  0.003101   0.00118  0.000175   \n2022-11-15 12:00:00   0.00182  0.000641  0.003101   0.00118  0.000173   \n2022-11-15 13:00:00   0.00182  0.000641  0.003101   0.00118  0.000177   \n2022-11-15 14:00:00   0.00182  0.000641  0.003101   0.00118  0.000185   \n2022-11-15 15:00:00   0.00182  0.000641  0.003101   0.00118  0.000185   \n2022-11-15 16:00:00   0.00182  0.000641  0.003101   0.00118  0.000183   \n2022-11-15 17:00:00   0.00182  0.000641  0.003067   0.00118  0.000181   \n2022-11-15 18:00:00   0.00182  0.000641  0.002102   0.00118  0.000185   \n2022-11-15 19:00:00   0.00176  0.000613  0.003033  0.001129  0.000179   \n2022-11-15 20:00:00   0.00178  0.000613  0.003033  0.001129  0.000181   \n2022-11-15 21:00:00   0.00178  0.000613  0.003033  0.001129  0.000177   \n2022-11-15 22:00:00   0.00178  0.000613  0.003033  0.001129  0.000153   \n2022-11-15 23:00:00   0.00178  0.000613  0.002902  0.001129  0.000145   \n2022-11-16 00:00:00  0.001702  0.000586  0.002902   0.00108  0.000135   \n2022-11-16 01:00:00  0.001702  0.000586  0.002902   0.00108  0.000137   \n2022-11-16 02:00:00  0.001628  0.000586  0.002775   0.00108  0.000132   \n2022-11-16 03:00:00  0.001628  0.000561  0.002775   0.00108  0.000124   \n2022-11-16 04:00:00  0.001558  0.000561  0.002655  0.001033  0.000125   \n2022-11-16 05:00:00  0.001558  0.000561  0.002655  0.001033  0.000125   \n2022-11-16 06:00:00  0.001558  0.000561  0.002655  0.001033  0.000121   \n2022-11-16 07:00:00   0.00149  0.000536  0.002655  0.001033  0.000121   \n\n                         G5_2      G5_6  \n2022-11-15 08:00:00  0.000165  0.000599  \n2022-11-15 09:00:00  0.000158  0.000599  \n2022-11-15 10:00:00  0.000158  0.000573  \n2022-11-15 11:00:00  0.000158  0.000573  \n2022-11-15 12:00:00  0.000158  0.000573  \n2022-11-15 13:00:00  0.000158  0.000573  \n2022-11-15 14:00:00  0.000158  0.000573  \n2022-11-15 15:00:00  0.000158  0.000573  \n2022-11-15 16:00:00  0.000158  0.000573  \n2022-11-15 17:00:00  0.000158  0.000573  \n2022-11-15 18:00:00  0.000158  0.000573  \n2022-11-15 19:00:00  0.000158  0.000548  \n2022-11-15 20:00:00  0.000158  0.000548  \n2022-11-15 21:00:00  0.000158  0.000548  \n2022-11-15 22:00:00  0.000158  0.000548  \n2022-11-15 23:00:00  0.000158  0.000548  \n2022-11-16 00:00:00  0.000158  0.000548  \n2022-11-16 01:00:00  0.000158  0.000524  \n2022-11-16 02:00:00  0.000158  0.000524  \n2022-11-16 03:00:00  0.000151  0.000524  \n2022-11-16 04:00:00  0.000151  0.000502  \n2022-11-16 05:00:00  0.000151  0.000502  \n2022-11-16 06:00:00  0.000151  0.000502  \n2022-11-16 07:00:00  0.000151  0.000502  ",
      "text/html": "<div>\n<style scoped>\n    .dataframe tbody tr th:only-of-type {\n        vertical-align: middle;\n    }\n\n    .dataframe tbody tr th {\n        vertical-align: top;\n    }\n\n    .dataframe thead th {\n        text-align: right;\n    }\n</style>\n<table border=\"1\" class=\"dataframe\">\n  <thead>\n    <tr style=\"text-align: right;\">\n      <th></th>\n      <th>G1_1</th>\n      <th>G1_7</th>\n      <th>G2_3</th>\n      <th>G2_4</th>\n      <th>G5_1</th>\n      <th>G5_4</th>\n      <th>G5_7</th>\n      <th>G5_3</th>\n      <th>G5_8</th>\n      <th>G5_5</th>\n      <th>G5_2</th>\n      <th>G5_6</th>\n    </tr>\n  </thead>\n  <tbody>\n    <tr>\n      <th>2022-11-15 08:00:00</th>\n      <td>0.000043</td>\n      <td>0.000101</td>\n      <td>0.000429</td>\n      <td>0.000662</td>\n      <td>0.000554</td>\n      <td>0.001924</td>\n      <td>0.000641</td>\n      <td>0.003242</td>\n      <td>0.001234</td>\n      <td>0.000189</td>\n      <td>0.000165</td>\n      <td>0.000599</td>\n    </tr>\n    <tr>\n      <th>2022-11-15 09:00:00</th>\n      <td>0.000041</td>\n      <td>0.000114</td>\n      <td>0.000411</td>\n      <td>0.000662</td>\n      <td>0.00053</td>\n      <td>0.001902</td>\n      <td>0.000641</td>\n      <td>0.003242</td>\n      <td>0.00118</td>\n      <td>0.000185</td>\n      <td>0.000158</td>\n      <td>0.000599</td>\n    </tr>\n    <tr>\n      <th>2022-11-15 10:00:00</th>\n      <td>0.000209</td>\n      <td>0.0</td>\n      <td>0.000393</td>\n      <td>0.000633</td>\n      <td>0.00053</td>\n      <td>0.00182</td>\n      <td>0.000641</td>\n      <td>0.003101</td>\n      <td>0.00118</td>\n      <td>0.000179</td>\n      <td>0.000158</td>\n      <td>0.000573</td>\n    </tr>\n    <tr>\n      <th>2022-11-15 11:00:00</th>\n      <td>0.0</td>\n      <td>0.0</td>\n      <td>0.000376</td>\n      <td>0.00058</td>\n      <td>0.00053</td>\n      <td>0.00182</td>\n      <td>0.000641</td>\n      <td>0.003101</td>\n      <td>0.00118</td>\n      <td>0.000175</td>\n      <td>0.000158</td>\n      <td>0.000573</td>\n    </tr>\n    <tr>\n      <th>2022-11-15 12:00:00</th>\n      <td>0.0</td>\n      <td>0.0</td>\n      <td>0.000359</td>\n      <td>0.000554</td>\n      <td>0.00053</td>\n      <td>0.00182</td>\n      <td>0.000641</td>\n      <td>0.003101</td>\n      <td>0.00118</td>\n      <td>0.000173</td>\n      <td>0.000158</td>\n      <td>0.000573</td>\n    </tr>\n    <tr>\n      <th>2022-11-15 13:00:00</th>\n      <td>0.0</td>\n      <td>0.0</td>\n      <td>0.000344</td>\n      <td>0.00053</td>\n      <td>0.000507</td>\n      <td>0.00182</td>\n      <td>0.000641</td>\n      <td>0.003101</td>\n      <td>0.00118</td>\n      <td>0.000177</td>\n      <td>0.000158</td>\n      <td>0.000573</td>\n    </tr>\n    <tr>\n      <th>2022-11-15 14:00:00</th>\n      <td>0.0</td>\n      <td>0.0</td>\n      <td>0.000329</td>\n      <td>0.000507</td>\n      <td>0.000507</td>\n      <td>0.00182</td>\n      <td>0.000641</td>\n      <td>0.003101</td>\n      <td>0.00118</td>\n      <td>0.000185</td>\n      <td>0.000158</td>\n      <td>0.000573</td>\n    </tr>\n    <tr>\n      <th>2022-11-15 15:00:00</th>\n      <td>0.0</td>\n      <td>0.0</td>\n      <td>0.000315</td>\n      <td>0.000485</td>\n      <td>0.000507</td>\n      <td>0.00182</td>\n      <td>0.000641</td>\n      <td>0.003101</td>\n      <td>0.00118</td>\n      <td>0.000185</td>\n      <td>0.000158</td>\n      <td>0.000573</td>\n    </tr>\n    <tr>\n      <th>2022-11-15 16:00:00</th>\n      <td>0.0</td>\n      <td>0.0</td>\n      <td>0.000288</td>\n      <td>0.000444</td>\n      <td>0.000507</td>\n      <td>0.00182</td>\n      <td>0.000641</td>\n      <td>0.003101</td>\n      <td>0.00118</td>\n      <td>0.000183</td>\n      <td>0.000158</td>\n      <td>0.000573</td>\n    </tr>\n    <tr>\n      <th>2022-11-15 17:00:00</th>\n      <td>0.0</td>\n      <td>0.0</td>\n      <td>0.000275</td>\n      <td>0.000425</td>\n      <td>0.000507</td>\n      <td>0.00182</td>\n      <td>0.000641</td>\n      <td>0.003067</td>\n      <td>0.00118</td>\n      <td>0.000181</td>\n      <td>0.000158</td>\n      <td>0.000573</td>\n    </tr>\n    <tr>\n      <th>2022-11-15 18:00:00</th>\n      <td>0.0</td>\n      <td>0.0</td>\n      <td>0.000263</td>\n      <td>0.000406</td>\n      <td>0.000507</td>\n      <td>0.00182</td>\n      <td>0.000641</td>\n      <td>0.002102</td>\n      <td>0.00118</td>\n      <td>0.000185</td>\n      <td>0.000158</td>\n      <td>0.000573</td>\n    </tr>\n    <tr>\n      <th>2022-11-15 19:00:00</th>\n      <td>0.0</td>\n      <td>0.0</td>\n      <td>0.000241</td>\n      <td>0.000372</td>\n      <td>0.000485</td>\n      <td>0.00176</td>\n      <td>0.000613</td>\n      <td>0.003033</td>\n      <td>0.001129</td>\n      <td>0.000179</td>\n      <td>0.000158</td>\n      <td>0.000548</td>\n    </tr>\n    <tr>\n      <th>2022-11-15 20:00:00</th>\n      <td>0.0</td>\n      <td>0.0</td>\n      <td>0.000231</td>\n      <td>0.000356</td>\n      <td>0.000485</td>\n      <td>0.00178</td>\n      <td>0.000613</td>\n      <td>0.003033</td>\n      <td>0.001129</td>\n      <td>0.000181</td>\n      <td>0.000158</td>\n      <td>0.000548</td>\n    </tr>\n    <tr>\n      <th>2022-11-15 21:00:00</th>\n      <td>0.000241</td>\n      <td>0.0</td>\n      <td>0.000148</td>\n      <td>0.000228</td>\n      <td>0.000485</td>\n      <td>0.00178</td>\n      <td>0.000613</td>\n      <td>0.003033</td>\n      <td>0.001129</td>\n      <td>0.000177</td>\n      <td>0.000158</td>\n      <td>0.000548</td>\n    </tr>\n    <tr>\n      <th>2022-11-15 22:00:00</th>\n      <td>0.000035</td>\n      <td>0.0</td>\n      <td>0.000091</td>\n      <td>0.000134</td>\n      <td>0.000485</td>\n      <td>0.00178</td>\n      <td>0.000613</td>\n      <td>0.003033</td>\n      <td>0.001129</td>\n      <td>0.000153</td>\n      <td>0.000158</td>\n      <td>0.000548</td>\n    </tr>\n    <tr>\n      <th>2022-11-15 23:00:00</th>\n      <td>0.000032</td>\n      <td>0.0</td>\n      <td>0.000069</td>\n      <td>0.000102</td>\n      <td>0.000464</td>\n      <td>0.00178</td>\n      <td>0.000613</td>\n      <td>0.002902</td>\n      <td>0.001129</td>\n      <td>0.000145</td>\n      <td>0.000158</td>\n      <td>0.000548</td>\n    </tr>\n    <tr>\n      <th>2022-11-16 00:00:00</th>\n      <td>0.00003</td>\n      <td>0.0</td>\n      <td>0.000051</td>\n      <td>0.000078</td>\n      <td>0.000464</td>\n      <td>0.001702</td>\n      <td>0.000586</td>\n      <td>0.002902</td>\n      <td>0.00108</td>\n      <td>0.000135</td>\n      <td>0.000158</td>\n      <td>0.000548</td>\n    </tr>\n    <tr>\n      <th>2022-11-16 01:00:00</th>\n      <td>0.000028</td>\n      <td>0.0</td>\n      <td>0.000047</td>\n      <td>0.000069</td>\n      <td>0.000444</td>\n      <td>0.001702</td>\n      <td>0.000586</td>\n      <td>0.002902</td>\n      <td>0.00108</td>\n      <td>0.000137</td>\n      <td>0.000158</td>\n      <td>0.000524</td>\n    </tr>\n    <tr>\n      <th>2022-11-16 02:00:00</th>\n      <td>0.000028</td>\n      <td>0.0</td>\n      <td>0.000043</td>\n      <td>0.000063</td>\n      <td>0.000444</td>\n      <td>0.001628</td>\n      <td>0.000586</td>\n      <td>0.002775</td>\n      <td>0.00108</td>\n      <td>0.000132</td>\n      <td>0.000158</td>\n      <td>0.000524</td>\n    </tr>\n    <tr>\n      <th>2022-11-16 03:00:00</th>\n      <td>0.000027</td>\n      <td>0.0</td>\n      <td>0.000041</td>\n      <td>0.000058</td>\n      <td>0.000444</td>\n      <td>0.001628</td>\n      <td>0.000561</td>\n      <td>0.002775</td>\n      <td>0.00108</td>\n      <td>0.000124</td>\n      <td>0.000151</td>\n      <td>0.000524</td>\n    </tr>\n    <tr>\n      <th>2022-11-16 04:00:00</th>\n      <td>0.000026</td>\n      <td>0.0</td>\n      <td>0.000039</td>\n      <td>0.000058</td>\n      <td>0.000425</td>\n      <td>0.001558</td>\n      <td>0.000561</td>\n      <td>0.002655</td>\n      <td>0.001033</td>\n      <td>0.000125</td>\n      <td>0.000151</td>\n      <td>0.000502</td>\n    </tr>\n    <tr>\n      <th>2022-11-16 05:00:00</th>\n      <td>0.000026</td>\n      <td>0.0</td>\n      <td>0.000039</td>\n      <td>0.000055</td>\n      <td>0.000425</td>\n      <td>0.001558</td>\n      <td>0.000561</td>\n      <td>0.002655</td>\n      <td>0.001033</td>\n      <td>0.000125</td>\n      <td>0.000151</td>\n      <td>0.000502</td>\n    </tr>\n    <tr>\n      <th>2022-11-16 06:00:00</th>\n      <td>0.000025</td>\n      <td>0.0</td>\n      <td>0.000039</td>\n      <td>0.000055</td>\n      <td>0.000425</td>\n      <td>0.001558</td>\n      <td>0.000561</td>\n      <td>0.002655</td>\n      <td>0.001033</td>\n      <td>0.000121</td>\n      <td>0.000151</td>\n      <td>0.000502</td>\n    </tr>\n    <tr>\n      <th>2022-11-16 07:00:00</th>\n      <td>0.000025</td>\n      <td>0.0</td>\n      <td>0.000036</td>\n      <td>0.000053</td>\n      <td>0.000425</td>\n      <td>0.00149</td>\n      <td>0.000536</td>\n      <td>0.002655</td>\n      <td>0.001033</td>\n      <td>0.000121</td>\n      <td>0.000151</td>\n      <td>0.000502</td>\n    </tr>\n  </tbody>\n</table>\n</div>"
     },
     "execution_count": 49,
     "metadata": {},
     "output_type": "execute_result"
    }
   ],
   "source": [
    "df_ps"
   ],
   "metadata": {
    "collapsed": false,
    "pycharm": {
     "name": "#%%\n"
    }
   }
  },
  {
   "cell_type": "code",
   "execution_count": 50,
   "outputs": [
    {
     "data": {
      "text/plain": "                      TVVG  TVVi  TVVM  THFM   TPG1  TPE18  TPO3  TPO15  TVUP  \\\n2022-11-15 08:00:00  134.0  66.0  66.0  67.0  128.0  103.0  51.0  156.0  46.0   \n2022-11-15 09:00:00  134.0  66.0  67.0  67.0  128.0  103.0  52.0  156.0  46.0   \n2022-11-15 10:00:00  135.0  67.0  66.0  67.0  128.0  104.0  52.0  156.0  46.0   \n2022-11-15 11:00:00  133.0  67.0  66.0  67.0  127.0  103.0  52.0  155.0  46.0   \n2022-11-15 12:00:00  133.0  68.0  67.0  68.0  127.0  103.0  52.0  155.0  47.0   \n2022-11-15 13:00:00  134.0  68.0  67.0  68.0  128.0  104.0  53.0  155.0  47.0   \n2022-11-15 14:00:00  134.0  69.0  67.0  68.0  127.0  104.0  53.0  156.0  48.0   \n2022-11-15 15:00:00  135.0  69.0  68.0  68.0  128.0  104.0  53.0  156.0  48.0   \n2022-11-15 16:00:00  137.0  69.0  68.0  68.0  128.0  106.0  53.0  157.0  48.0   \n2022-11-15 17:00:00  135.0  69.0  68.0  68.0  128.0  106.0  53.0  157.0  48.0   \n2022-11-15 18:00:00  135.0  69.0  67.0  68.0  128.0  106.0  53.0  156.0  48.0   \n2022-11-15 19:00:00  135.0  69.0  67.0  68.0  128.0  106.0  53.0  156.0  48.0   \n2022-11-15 20:00:00  135.0  69.0  67.0  68.0  128.0  106.0  53.0  156.0  47.0   \n2022-11-15 21:00:00  135.0  69.0  67.0  68.0  128.0  106.0  53.0  156.0  47.0   \n2022-11-15 22:00:00  136.0  69.0  67.0  68.0  130.0  106.0  53.0  156.0  47.0   \n2022-11-15 23:00:00  136.0  69.0  67.0  68.0  130.0  106.0  53.0  156.0  47.0   \n2022-11-16 00:00:00  136.0  69.0  67.0  68.0  130.0  106.0  53.0  156.0  47.0   \n2022-11-16 01:00:00  136.0  69.0  67.0  68.0  130.0  106.0  53.0  156.0  47.0   \n2022-11-16 02:00:00  136.0  69.0  67.0  68.0  130.0  106.0  52.0  156.0  47.0   \n2022-11-16 03:00:00  135.0  69.0  68.0  68.0  130.0  106.0  52.0  156.0  47.0   \n2022-11-16 04:00:00  135.0  69.0  68.0  68.0  130.0  106.0  52.0  156.0  47.0   \n2022-11-16 05:00:00  135.0  69.0  68.0  68.0  130.0  106.0  52.0  156.0  46.0   \n2022-11-16 06:00:00  135.0  69.0  68.0  68.0  130.0  106.0  52.0  156.0  46.0   \n2022-11-16 07:00:00  135.0  68.0  68.0  68.0  130.0  106.0  52.0  156.0  46.0   \n\n                     TVHF  TVLP  \n2022-11-15 08:00:00  49.0  31.0  \n2022-11-15 09:00:00  49.0  31.0  \n2022-11-15 10:00:00  51.0  31.0  \n2022-11-15 11:00:00  51.0  31.0  \n2022-11-15 12:00:00  52.0  31.0  \n2022-11-15 13:00:00  53.0  32.0  \n2022-11-15 14:00:00  53.0  32.0  \n2022-11-15 15:00:00  54.0  33.0  \n2022-11-15 16:00:00  54.0  33.0  \n2022-11-15 17:00:00  53.0  33.0  \n2022-11-15 18:00:00  53.0  32.0  \n2022-11-15 19:00:00  53.0  32.0  \n2022-11-15 20:00:00  53.0  32.0  \n2022-11-15 21:00:00  53.0  32.0  \n2022-11-15 22:00:00  53.0  32.0  \n2022-11-15 23:00:00  53.0  32.0  \n2022-11-16 00:00:00  52.0  32.0  \n2022-11-16 01:00:00  52.0  32.0  \n2022-11-16 02:00:00  52.0  32.0  \n2022-11-16 03:00:00  52.0  31.0  \n2022-11-16 04:00:00  52.0  31.0  \n2022-11-16 05:00:00  52.0  31.0  \n2022-11-16 06:00:00  52.0  31.0  \n2022-11-16 07:00:00  52.0  31.0  ",
      "text/html": "<div>\n<style scoped>\n    .dataframe tbody tr th:only-of-type {\n        vertical-align: middle;\n    }\n\n    .dataframe tbody tr th {\n        vertical-align: top;\n    }\n\n    .dataframe thead th {\n        text-align: right;\n    }\n</style>\n<table border=\"1\" class=\"dataframe\">\n  <thead>\n    <tr style=\"text-align: right;\">\n      <th></th>\n      <th>TVVG</th>\n      <th>TVVi</th>\n      <th>TVVM</th>\n      <th>THFM</th>\n      <th>TPG1</th>\n      <th>TPE18</th>\n      <th>TPO3</th>\n      <th>TPO15</th>\n      <th>TVUP</th>\n      <th>TVHF</th>\n      <th>TVLP</th>\n    </tr>\n  </thead>\n  <tbody>\n    <tr>\n      <th>2022-11-15 08:00:00</th>\n      <td>134.0</td>\n      <td>66.0</td>\n      <td>66.0</td>\n      <td>67.0</td>\n      <td>128.0</td>\n      <td>103.0</td>\n      <td>51.0</td>\n      <td>156.0</td>\n      <td>46.0</td>\n      <td>49.0</td>\n      <td>31.0</td>\n    </tr>\n    <tr>\n      <th>2022-11-15 09:00:00</th>\n      <td>134.0</td>\n      <td>66.0</td>\n      <td>67.0</td>\n      <td>67.0</td>\n      <td>128.0</td>\n      <td>103.0</td>\n      <td>52.0</td>\n      <td>156.0</td>\n      <td>46.0</td>\n      <td>49.0</td>\n      <td>31.0</td>\n    </tr>\n    <tr>\n      <th>2022-11-15 10:00:00</th>\n      <td>135.0</td>\n      <td>67.0</td>\n      <td>66.0</td>\n      <td>67.0</td>\n      <td>128.0</td>\n      <td>104.0</td>\n      <td>52.0</td>\n      <td>156.0</td>\n      <td>46.0</td>\n      <td>51.0</td>\n      <td>31.0</td>\n    </tr>\n    <tr>\n      <th>2022-11-15 11:00:00</th>\n      <td>133.0</td>\n      <td>67.0</td>\n      <td>66.0</td>\n      <td>67.0</td>\n      <td>127.0</td>\n      <td>103.0</td>\n      <td>52.0</td>\n      <td>155.0</td>\n      <td>46.0</td>\n      <td>51.0</td>\n      <td>31.0</td>\n    </tr>\n    <tr>\n      <th>2022-11-15 12:00:00</th>\n      <td>133.0</td>\n      <td>68.0</td>\n      <td>67.0</td>\n      <td>68.0</td>\n      <td>127.0</td>\n      <td>103.0</td>\n      <td>52.0</td>\n      <td>155.0</td>\n      <td>47.0</td>\n      <td>52.0</td>\n      <td>31.0</td>\n    </tr>\n    <tr>\n      <th>2022-11-15 13:00:00</th>\n      <td>134.0</td>\n      <td>68.0</td>\n      <td>67.0</td>\n      <td>68.0</td>\n      <td>128.0</td>\n      <td>104.0</td>\n      <td>53.0</td>\n      <td>155.0</td>\n      <td>47.0</td>\n      <td>53.0</td>\n      <td>32.0</td>\n    </tr>\n    <tr>\n      <th>2022-11-15 14:00:00</th>\n      <td>134.0</td>\n      <td>69.0</td>\n      <td>67.0</td>\n      <td>68.0</td>\n      <td>127.0</td>\n      <td>104.0</td>\n      <td>53.0</td>\n      <td>156.0</td>\n      <td>48.0</td>\n      <td>53.0</td>\n      <td>32.0</td>\n    </tr>\n    <tr>\n      <th>2022-11-15 15:00:00</th>\n      <td>135.0</td>\n      <td>69.0</td>\n      <td>68.0</td>\n      <td>68.0</td>\n      <td>128.0</td>\n      <td>104.0</td>\n      <td>53.0</td>\n      <td>156.0</td>\n      <td>48.0</td>\n      <td>54.0</td>\n      <td>33.0</td>\n    </tr>\n    <tr>\n      <th>2022-11-15 16:00:00</th>\n      <td>137.0</td>\n      <td>69.0</td>\n      <td>68.0</td>\n      <td>68.0</td>\n      <td>128.0</td>\n      <td>106.0</td>\n      <td>53.0</td>\n      <td>157.0</td>\n      <td>48.0</td>\n      <td>54.0</td>\n      <td>33.0</td>\n    </tr>\n    <tr>\n      <th>2022-11-15 17:00:00</th>\n      <td>135.0</td>\n      <td>69.0</td>\n      <td>68.0</td>\n      <td>68.0</td>\n      <td>128.0</td>\n      <td>106.0</td>\n      <td>53.0</td>\n      <td>157.0</td>\n      <td>48.0</td>\n      <td>53.0</td>\n      <td>33.0</td>\n    </tr>\n    <tr>\n      <th>2022-11-15 18:00:00</th>\n      <td>135.0</td>\n      <td>69.0</td>\n      <td>67.0</td>\n      <td>68.0</td>\n      <td>128.0</td>\n      <td>106.0</td>\n      <td>53.0</td>\n      <td>156.0</td>\n      <td>48.0</td>\n      <td>53.0</td>\n      <td>32.0</td>\n    </tr>\n    <tr>\n      <th>2022-11-15 19:00:00</th>\n      <td>135.0</td>\n      <td>69.0</td>\n      <td>67.0</td>\n      <td>68.0</td>\n      <td>128.0</td>\n      <td>106.0</td>\n      <td>53.0</td>\n      <td>156.0</td>\n      <td>48.0</td>\n      <td>53.0</td>\n      <td>32.0</td>\n    </tr>\n    <tr>\n      <th>2022-11-15 20:00:00</th>\n      <td>135.0</td>\n      <td>69.0</td>\n      <td>67.0</td>\n      <td>68.0</td>\n      <td>128.0</td>\n      <td>106.0</td>\n      <td>53.0</td>\n      <td>156.0</td>\n      <td>47.0</td>\n      <td>53.0</td>\n      <td>32.0</td>\n    </tr>\n    <tr>\n      <th>2022-11-15 21:00:00</th>\n      <td>135.0</td>\n      <td>69.0</td>\n      <td>67.0</td>\n      <td>68.0</td>\n      <td>128.0</td>\n      <td>106.0</td>\n      <td>53.0</td>\n      <td>156.0</td>\n      <td>47.0</td>\n      <td>53.0</td>\n      <td>32.0</td>\n    </tr>\n    <tr>\n      <th>2022-11-15 22:00:00</th>\n      <td>136.0</td>\n      <td>69.0</td>\n      <td>67.0</td>\n      <td>68.0</td>\n      <td>130.0</td>\n      <td>106.0</td>\n      <td>53.0</td>\n      <td>156.0</td>\n      <td>47.0</td>\n      <td>53.0</td>\n      <td>32.0</td>\n    </tr>\n    <tr>\n      <th>2022-11-15 23:00:00</th>\n      <td>136.0</td>\n      <td>69.0</td>\n      <td>67.0</td>\n      <td>68.0</td>\n      <td>130.0</td>\n      <td>106.0</td>\n      <td>53.0</td>\n      <td>156.0</td>\n      <td>47.0</td>\n      <td>53.0</td>\n      <td>32.0</td>\n    </tr>\n    <tr>\n      <th>2022-11-16 00:00:00</th>\n      <td>136.0</td>\n      <td>69.0</td>\n      <td>67.0</td>\n      <td>68.0</td>\n      <td>130.0</td>\n      <td>106.0</td>\n      <td>53.0</td>\n      <td>156.0</td>\n      <td>47.0</td>\n      <td>52.0</td>\n      <td>32.0</td>\n    </tr>\n    <tr>\n      <th>2022-11-16 01:00:00</th>\n      <td>136.0</td>\n      <td>69.0</td>\n      <td>67.0</td>\n      <td>68.0</td>\n      <td>130.0</td>\n      <td>106.0</td>\n      <td>53.0</td>\n      <td>156.0</td>\n      <td>47.0</td>\n      <td>52.0</td>\n      <td>32.0</td>\n    </tr>\n    <tr>\n      <th>2022-11-16 02:00:00</th>\n      <td>136.0</td>\n      <td>69.0</td>\n      <td>67.0</td>\n      <td>68.0</td>\n      <td>130.0</td>\n      <td>106.0</td>\n      <td>52.0</td>\n      <td>156.0</td>\n      <td>47.0</td>\n      <td>52.0</td>\n      <td>32.0</td>\n    </tr>\n    <tr>\n      <th>2022-11-16 03:00:00</th>\n      <td>135.0</td>\n      <td>69.0</td>\n      <td>68.0</td>\n      <td>68.0</td>\n      <td>130.0</td>\n      <td>106.0</td>\n      <td>52.0</td>\n      <td>156.0</td>\n      <td>47.0</td>\n      <td>52.0</td>\n      <td>31.0</td>\n    </tr>\n    <tr>\n      <th>2022-11-16 04:00:00</th>\n      <td>135.0</td>\n      <td>69.0</td>\n      <td>68.0</td>\n      <td>68.0</td>\n      <td>130.0</td>\n      <td>106.0</td>\n      <td>52.0</td>\n      <td>156.0</td>\n      <td>47.0</td>\n      <td>52.0</td>\n      <td>31.0</td>\n    </tr>\n    <tr>\n      <th>2022-11-16 05:00:00</th>\n      <td>135.0</td>\n      <td>69.0</td>\n      <td>68.0</td>\n      <td>68.0</td>\n      <td>130.0</td>\n      <td>106.0</td>\n      <td>52.0</td>\n      <td>156.0</td>\n      <td>46.0</td>\n      <td>52.0</td>\n      <td>31.0</td>\n    </tr>\n    <tr>\n      <th>2022-11-16 06:00:00</th>\n      <td>135.0</td>\n      <td>69.0</td>\n      <td>68.0</td>\n      <td>68.0</td>\n      <td>130.0</td>\n      <td>106.0</td>\n      <td>52.0</td>\n      <td>156.0</td>\n      <td>46.0</td>\n      <td>52.0</td>\n      <td>31.0</td>\n    </tr>\n    <tr>\n      <th>2022-11-16 07:00:00</th>\n      <td>135.0</td>\n      <td>68.0</td>\n      <td>68.0</td>\n      <td>68.0</td>\n      <td>130.0</td>\n      <td>106.0</td>\n      <td>52.0</td>\n      <td>156.0</td>\n      <td>46.0</td>\n      <td>52.0</td>\n      <td>31.0</td>\n    </tr>\n  </tbody>\n</table>\n</div>"
     },
     "execution_count": 50,
     "metadata": {},
     "output_type": "execute_result"
    }
   ],
   "source": [
    "df_tp"
   ],
   "metadata": {
    "collapsed": false,
    "pycharm": {
     "name": "#%%\n"
    }
   }
  },
  {
   "cell_type": "code",
   "execution_count": 51,
   "outputs": [],
   "source": [
    "df_ps.to_csv(f\"pressure_{date_today}.csv\")\n",
    "df_tp.to_csv(f\"temperature_{date_today}.csv\")"
   ],
   "metadata": {
    "collapsed": false,
    "pycharm": {
     "name": "#%%\n"
    }
   }
  },
  {
   "cell_type": "code",
   "execution_count": 51,
   "outputs": [],
   "source": [],
   "metadata": {
    "collapsed": false,
    "pycharm": {
     "name": "#%%\n"
    }
   }
  }
 ],
 "metadata": {
  "kernelspec": {
   "display_name": "Python 3",
   "language": "python",
   "name": "python3"
  },
  "language_info": {
   "codemirror_mode": {
    "name": "ipython",
    "version": 2
   },
   "file_extension": ".py",
   "mimetype": "text/x-python",
   "name": "python",
   "nbconvert_exporter": "python",
   "pygments_lexer": "ipython2",
   "version": "2.7.6"
  }
 },
 "nbformat": 4,
 "nbformat_minor": 0
}